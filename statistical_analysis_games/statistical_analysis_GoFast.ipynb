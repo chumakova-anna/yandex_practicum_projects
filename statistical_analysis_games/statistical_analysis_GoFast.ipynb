{
 "cells": [
  {
   "cell_type": "markdown",
   "id": "f5ab2332",
   "metadata": {},
   "source": [
    "# Проект: Статистический анализ данных сервиса аренды самокатов GoFast\n",
    "\n",
    "**Задача:**\n",
    "\n",
    "Провести анализ данных о пользователях и поездках сервиса аренды самокатов GoFast. \n",
    "\n",
    "**Описание данных:**\n",
    "\n",
    "Для анализа используются данные из трех CSV-файлов:\n",
    "\n",
    "* *NDA* - информация о пользователях\n",
    "* *NDA*- данные о поездках\n",
    "* *NDA* - сведения о подписках\n",
    "\n",
    "**Описание сервиса:**\n",
    "\n",
    "Сервис GoFast предоставляет возможность аренды самокатов для поездок по городу. Пользователи могут пользоваться сервисом без подписки или с подпиской Ultra. \n",
    "\n",
    "**Цели проекта:**\n",
    "\n",
    "1. Провести анализ данных о пользователях и их поездках.\n",
    "2. Рассчитать выручку сервиса GoFast.\n",
    "3. Проверить гипотезы, которые помогут сервису расти."
   ]
  },
  {
   "cell_type": "code",
   "execution_count": 1,
   "id": "6098adae",
   "metadata": {},
   "outputs": [
    {
     "data": {
      "text/markdown": [
       "\n",
       "# Содержание\n",
       "\n",
       "- [Загрузка и обзор данных](#Загрузка-и-обзор-данных)\n",
       "- [Предобработка данных](#Предобработка-данных)\n",
       "- [Исследовательский анализ данных](#Исследовательский-анализ-данных)\n",
       "- [Объединение данных](#Объединение-данных)\n",
       "- [Подсчёт выручки](#Подсчёт-выручки)\n",
       "- [Проверка гипотез](#Проверка-гипотез)\n",
       "- [Итоги исследования](#Итоги-исследования)\n",
       "\n"
      ],
      "text/plain": [
       "<IPython.core.display.Markdown object>"
      ]
     },
     "metadata": {},
     "output_type": "display_data"
    }
   ],
   "source": [
    "from IPython.display import display, Markdown\n",
    "\n",
    "def generate_simple_toc():\n",
    "    toc = \"\"\"\n",
    "# Содержание\n",
    "\n",
    "- [Загрузка и обзор данных](#Загрузка-и-обзор-данных)\n",
    "- [Предобработка данных](#Предобработка-данных)\n",
    "- [Исследовательский анализ данных](#Исследовательский-анализ-данных)\n",
    "- [Объединение данных](#Объединение-данных)\n",
    "- [Подсчёт выручки](#Подсчёт-выручки)\n",
    "- [Проверка гипотез](#Проверка-гипотез)\n",
    "- [Итоги исследования](#Итоги-исследования)\n",
    "\n",
    "\"\"\"\n",
    "    display(Markdown(toc))\n",
    "\n",
    "generate_simple_toc()"
   ]
  },
  {
   "cell_type": "code",
   "execution_count": 2,
   "id": "72576667",
   "metadata": {},
   "outputs": [],
   "source": [
    "#импортируем библиотеки\n",
    "import pandas as pd\n",
    "import matplotlib.pyplot as plt  \n",
    "import numpy as np\n",
    "from scipy import stats as st"
   ]
  },
  {
   "cell_type": "markdown",
   "id": "c42cbe00",
   "metadata": {},
   "source": [
    "#### Загрузка и обзор данных"
   ]
  },
  {
   "cell_type": "raw",
   "id": "03ad7b5d",
   "metadata": {
    "scrolled": true
   },
   "source": [
    "users = pd.read_csv('/datasets/users_go.csv')"
   ]
  },
  {
   "cell_type": "code",
   "execution_count": 4,
   "id": "5f5dc366",
   "metadata": {},
   "outputs": [
    {
     "data": {
      "text/html": [
       "<div>\n",
       "<style scoped>\n",
       "    .dataframe tbody tr th:only-of-type {\n",
       "        vertical-align: middle;\n",
       "    }\n",
       "\n",
       "    .dataframe tbody tr th {\n",
       "        vertical-align: top;\n",
       "    }\n",
       "\n",
       "    .dataframe thead th {\n",
       "        text-align: right;\n",
       "    }\n",
       "</style>\n",
       "<table border=\"1\" class=\"dataframe\">\n",
       "  <thead>\n",
       "    <tr style=\"text-align: right;\">\n",
       "      <th></th>\n",
       "      <th>user_id</th>\n",
       "      <th>name</th>\n",
       "      <th>age</th>\n",
       "      <th>city</th>\n",
       "      <th>subscription_type</th>\n",
       "    </tr>\n",
       "  </thead>\n",
       "  <tbody>\n",
       "    <tr>\n",
       "      <th>0</th>\n",
       "      <td>1</td>\n",
       "      <td>Кира</td>\n",
       "      <td>22</td>\n",
       "      <td>Тюмень</td>\n",
       "      <td>ultra</td>\n",
       "    </tr>\n",
       "    <tr>\n",
       "      <th>1</th>\n",
       "      <td>2</td>\n",
       "      <td>Станислав</td>\n",
       "      <td>31</td>\n",
       "      <td>Омск</td>\n",
       "      <td>ultra</td>\n",
       "    </tr>\n",
       "    <tr>\n",
       "      <th>2</th>\n",
       "      <td>3</td>\n",
       "      <td>Алексей</td>\n",
       "      <td>20</td>\n",
       "      <td>Москва</td>\n",
       "      <td>ultra</td>\n",
       "    </tr>\n",
       "    <tr>\n",
       "      <th>3</th>\n",
       "      <td>4</td>\n",
       "      <td>Константин</td>\n",
       "      <td>26</td>\n",
       "      <td>Ростов-на-Дону</td>\n",
       "      <td>ultra</td>\n",
       "    </tr>\n",
       "    <tr>\n",
       "      <th>4</th>\n",
       "      <td>5</td>\n",
       "      <td>Адель</td>\n",
       "      <td>28</td>\n",
       "      <td>Омск</td>\n",
       "      <td>ultra</td>\n",
       "    </tr>\n",
       "  </tbody>\n",
       "</table>\n",
       "</div>"
      ],
      "text/plain": [
       "   user_id        name  age            city subscription_type\n",
       "0        1        Кира   22          Тюмень             ultra\n",
       "1        2   Станислав   31            Омск             ultra\n",
       "2        3     Алексей   20          Москва             ultra\n",
       "3        4  Константин   26  Ростов-на-Дону             ultra\n",
       "4        5       Адель   28            Омск             ultra"
      ]
     },
     "execution_count": 4,
     "metadata": {},
     "output_type": "execute_result"
    }
   ],
   "source": [
    "users.head()"
   ]
  },
  {
   "cell_type": "code",
   "execution_count": 5,
   "id": "7f79674c",
   "metadata": {},
   "outputs": [
    {
     "name": "stdout",
     "output_type": "stream",
     "text": [
      "<class 'pandas.core.frame.DataFrame'>\n",
      "RangeIndex: 1565 entries, 0 to 1564\n",
      "Data columns (total 5 columns):\n",
      " #   Column             Non-Null Count  Dtype \n",
      "---  ------             --------------  ----- \n",
      " 0   user_id            1565 non-null   int64 \n",
      " 1   name               1565 non-null   object\n",
      " 2   age                1565 non-null   int64 \n",
      " 3   city               1565 non-null   object\n",
      " 4   subscription_type  1565 non-null   object\n",
      "dtypes: int64(2), object(3)\n",
      "memory usage: 61.3+ KB\n"
     ]
    }
   ],
   "source": [
    "users.info()"
   ]
  },
  {
   "cell_type": "raw",
   "id": "9072a92c",
   "metadata": {
    "scrolled": false
   },
   "source": [
    "rides = pd.read_csv('/datasets/rides_go.csv')"
   ]
  },
  {
   "cell_type": "code",
   "execution_count": 7,
   "id": "143944fa",
   "metadata": {},
   "outputs": [
    {
     "data": {
      "text/html": [
       "<div>\n",
       "<style scoped>\n",
       "    .dataframe tbody tr th:only-of-type {\n",
       "        vertical-align: middle;\n",
       "    }\n",
       "\n",
       "    .dataframe tbody tr th {\n",
       "        vertical-align: top;\n",
       "    }\n",
       "\n",
       "    .dataframe thead th {\n",
       "        text-align: right;\n",
       "    }\n",
       "</style>\n",
       "<table border=\"1\" class=\"dataframe\">\n",
       "  <thead>\n",
       "    <tr style=\"text-align: right;\">\n",
       "      <th></th>\n",
       "      <th>user_id</th>\n",
       "      <th>distance</th>\n",
       "      <th>duration</th>\n",
       "      <th>date</th>\n",
       "    </tr>\n",
       "  </thead>\n",
       "  <tbody>\n",
       "    <tr>\n",
       "      <th>0</th>\n",
       "      <td>1</td>\n",
       "      <td>4409.919140</td>\n",
       "      <td>25.599769</td>\n",
       "      <td>2021-01-01</td>\n",
       "    </tr>\n",
       "    <tr>\n",
       "      <th>1</th>\n",
       "      <td>1</td>\n",
       "      <td>2617.592153</td>\n",
       "      <td>15.816871</td>\n",
       "      <td>2021-01-18</td>\n",
       "    </tr>\n",
       "    <tr>\n",
       "      <th>2</th>\n",
       "      <td>1</td>\n",
       "      <td>754.159807</td>\n",
       "      <td>6.232113</td>\n",
       "      <td>2021-04-20</td>\n",
       "    </tr>\n",
       "    <tr>\n",
       "      <th>3</th>\n",
       "      <td>1</td>\n",
       "      <td>2694.783254</td>\n",
       "      <td>18.511000</td>\n",
       "      <td>2021-08-11</td>\n",
       "    </tr>\n",
       "    <tr>\n",
       "      <th>4</th>\n",
       "      <td>1</td>\n",
       "      <td>4028.687306</td>\n",
       "      <td>26.265803</td>\n",
       "      <td>2021-08-28</td>\n",
       "    </tr>\n",
       "  </tbody>\n",
       "</table>\n",
       "</div>"
      ],
      "text/plain": [
       "   user_id     distance   duration        date\n",
       "0        1  4409.919140  25.599769  2021-01-01\n",
       "1        1  2617.592153  15.816871  2021-01-18\n",
       "2        1   754.159807   6.232113  2021-04-20\n",
       "3        1  2694.783254  18.511000  2021-08-11\n",
       "4        1  4028.687306  26.265803  2021-08-28"
      ]
     },
     "execution_count": 7,
     "metadata": {},
     "output_type": "execute_result"
    }
   ],
   "source": [
    "rides.head()"
   ]
  },
  {
   "cell_type": "code",
   "execution_count": 8,
   "id": "de6bb532",
   "metadata": {},
   "outputs": [
    {
     "name": "stdout",
     "output_type": "stream",
     "text": [
      "<class 'pandas.core.frame.DataFrame'>\n",
      "RangeIndex: 18068 entries, 0 to 18067\n",
      "Data columns (total 4 columns):\n",
      " #   Column    Non-Null Count  Dtype  \n",
      "---  ------    --------------  -----  \n",
      " 0   user_id   18068 non-null  int64  \n",
      " 1   distance  18068 non-null  float64\n",
      " 2   duration  18068 non-null  float64\n",
      " 3   date      18068 non-null  object \n",
      "dtypes: float64(2), int64(1), object(1)\n",
      "memory usage: 564.8+ KB\n"
     ]
    }
   ],
   "source": [
    "rides.info()"
   ]
  },
  {
   "cell_type": "raw",
   "id": "2be22b7f",
   "metadata": {},
   "source": [
    "subscriptions = pd.read_csv('/datasets/subscriptions_go.csv')"
   ]
  },
  {
   "cell_type": "code",
   "execution_count": 10,
   "id": "eec45f32",
   "metadata": {},
   "outputs": [
    {
     "data": {
      "text/html": [
       "<div>\n",
       "<style scoped>\n",
       "    .dataframe tbody tr th:only-of-type {\n",
       "        vertical-align: middle;\n",
       "    }\n",
       "\n",
       "    .dataframe tbody tr th {\n",
       "        vertical-align: top;\n",
       "    }\n",
       "\n",
       "    .dataframe thead th {\n",
       "        text-align: right;\n",
       "    }\n",
       "</style>\n",
       "<table border=\"1\" class=\"dataframe\">\n",
       "  <thead>\n",
       "    <tr style=\"text-align: right;\">\n",
       "      <th></th>\n",
       "      <th>subscription_type</th>\n",
       "      <th>minute_price</th>\n",
       "      <th>start_ride_price</th>\n",
       "      <th>subscription_fee</th>\n",
       "    </tr>\n",
       "  </thead>\n",
       "  <tbody>\n",
       "    <tr>\n",
       "      <th>0</th>\n",
       "      <td>free</td>\n",
       "      <td>8</td>\n",
       "      <td>50</td>\n",
       "      <td>0</td>\n",
       "    </tr>\n",
       "    <tr>\n",
       "      <th>1</th>\n",
       "      <td>ultra</td>\n",
       "      <td>6</td>\n",
       "      <td>0</td>\n",
       "      <td>199</td>\n",
       "    </tr>\n",
       "  </tbody>\n",
       "</table>\n",
       "</div>"
      ],
      "text/plain": [
       "  subscription_type  minute_price  start_ride_price  subscription_fee\n",
       "0              free             8                50                 0\n",
       "1             ultra             6                 0               199"
      ]
     },
     "execution_count": 10,
     "metadata": {},
     "output_type": "execute_result"
    }
   ],
   "source": [
    "subscriptions.head()"
   ]
  },
  {
   "cell_type": "code",
   "execution_count": 11,
   "id": "f0754375",
   "metadata": {},
   "outputs": [
    {
     "name": "stdout",
     "output_type": "stream",
     "text": [
      "<class 'pandas.core.frame.DataFrame'>\n",
      "RangeIndex: 2 entries, 0 to 1\n",
      "Data columns (total 4 columns):\n",
      " #   Column             Non-Null Count  Dtype \n",
      "---  ------             --------------  ----- \n",
      " 0   subscription_type  2 non-null      object\n",
      " 1   minute_price       2 non-null      int64 \n",
      " 2   start_ride_price   2 non-null      int64 \n",
      " 3   subscription_fee   2 non-null      int64 \n",
      "dtypes: int64(3), object(1)\n",
      "memory usage: 192.0+ bytes\n"
     ]
    }
   ],
   "source": [
    "subscriptions.info()"
   ]
  },
  {
   "cell_type": "markdown",
   "id": "9af640f0",
   "metadata": {},
   "source": [
    "Выводы:\n",
    "\n",
    "- датафрейм users содержит 1565 записей, пропуски отсутствуют.\n",
    "- rides содержит 18068 записей, пропуски отсутствуют. В столбце data тип данных object, а надо datetime.\n",
    "- subscriptions содержит 2 записи, пропуски отсутствуют.\n",
    "\n",
    "Данные признаны полными и достаточными для исследования."
   ]
  },
  {
   "cell_type": "markdown",
   "id": "e95ebca7",
   "metadata": {},
   "source": [
    "#### Предобработка данных"
   ]
  },
  {
   "cell_type": "code",
   "execution_count": 12,
   "id": "0bbdd376",
   "metadata": {},
   "outputs": [],
   "source": [
    "# Приведем столбец date к типу даты\n",
    "rides['date'] = pd.to_datetime(rides['date'], format='%Y.%m.%d')"
   ]
  },
  {
   "cell_type": "code",
   "execution_count": 13,
   "id": "fec70d9f",
   "metadata": {},
   "outputs": [],
   "source": [
    "# Создадим новый столбец с номером месяца на основе столбца date\n",
    "rides['month'] = rides['date'].dt.month"
   ]
  },
  {
   "cell_type": "code",
   "execution_count": 14,
   "id": "ccadf645",
   "metadata": {},
   "outputs": [
    {
     "data": {
      "text/plain": [
       "31"
      ]
     },
     "execution_count": 14,
     "metadata": {},
     "output_type": "execute_result"
    }
   ],
   "source": [
    "#проверим датафрейм на наличие строк-дубликатов\n",
    "users.duplicated().sum()"
   ]
  },
  {
   "cell_type": "code",
   "execution_count": 15,
   "id": "185058ff",
   "metadata": {},
   "outputs": [],
   "source": [
    "#удалим строки-дубликаты\n",
    "users = users.drop_duplicates()"
   ]
  },
  {
   "cell_type": "code",
   "execution_count": 16,
   "id": "0bfec9a2",
   "metadata": {},
   "outputs": [
    {
     "data": {
      "text/plain": [
       "0"
      ]
     },
     "execution_count": 16,
     "metadata": {},
     "output_type": "execute_result"
    }
   ],
   "source": [
    "rides.duplicated().sum()"
   ]
  },
  {
   "cell_type": "code",
   "execution_count": 17,
   "id": "e61267fa",
   "metadata": {},
   "outputs": [
    {
     "data": {
      "text/plain": [
       "0"
      ]
     },
     "execution_count": 17,
     "metadata": {},
     "output_type": "execute_result"
    }
   ],
   "source": [
    "subscriptions.duplicated().sum()"
   ]
  },
  {
   "cell_type": "markdown",
   "id": "a832d126",
   "metadata": {},
   "source": [
    "Вывод по проведению предобработки данных:\n",
    "- привели столбец date к типу datetime64,\n",
    "- создали столбец month с номером месяца из date,\n",
    "- в датафрейме users обнаружены и удалены строки дубликаты (30 шт.). "
   ]
  },
  {
   "cell_type": "markdown",
   "id": "212593c7",
   "metadata": {},
   "source": [
    "#### Исследовательский анализ данных"
   ]
  },
  {
   "cell_type": "markdown",
   "id": "d622cff2",
   "metadata": {},
   "source": [
    "Опишем  и визуализируем общую информацию о пользователях и поездках."
   ]
  },
  {
   "cell_type": "markdown",
   "id": "e8530559",
   "metadata": {},
   "source": [
    "##### частота встречаемости городов"
   ]
  },
  {
   "cell_type": "code",
   "execution_count": 18,
   "id": "9b2ef7ec",
   "metadata": {},
   "outputs": [
    {
     "data": {
      "image/png": "[encoded data removed]",
      "text/plain": [
       "<Figure size 432x288 with 1 Axes>"
      ]
     },
     "metadata": {
      "needs_background": "light"
     },
     "output_type": "display_data"
    }
   ],
   "source": [
    "users['city'].value_counts(ascending=True).plot.bar(grid=True)\n",
    "\n",
    "plt.title('Частота встречаемости городов')\n",
    "plt.ylabel('Количество')\n",
    "plt.show()"
   ]
  },
  {
   "cell_type": "markdown",
   "id": "4305e1b2",
   "metadata": {},
   "source": [
    "В исследуемых данных частота встречаемости каждого города лежит в диапазоне от 150 до 200. Наиболее часто встречается город Пятигорск (около 200 раз), наименее часто город Москва (примерно 160 раз).\n",
    "В пятерке самых часто встречаемости городов преимущественно города из юга России (за исключением Екатеринбурга).  Это может быть связано с более длительным сезоном проката."
   ]
  },
  {
   "cell_type": "markdown",
   "id": "754168e5",
   "metadata": {},
   "source": [
    "#####  соотношение пользователей с подпиской и без подписки"
   ]
  },
  {
   "cell_type": "code",
   "execution_count": 19,
   "id": "ae3d88db",
   "metadata": {},
   "outputs": [
    {
     "data": {
      "image/png": "[encoded data removed]",
      "text/plain": [
       "<Figure size 432x288 with 1 Axes>"
      ]
     },
     "metadata": {},
     "output_type": "display_data"
    }
   ],
   "source": [
    "subscription_counts = users['subscription_type'].value_counts()\n",
    "\n",
    "# Создание круговой диаграммы\n",
    "plt.pie(subscription_counts, labels=subscription_counts.index, autopct='%1.1f%%', startangle=90)\n",
    "plt.title('Соотношение пользователей с подпиской и без подписки')\n",
    "plt.axis('equal') # Делаем круговую диаграмму круглой\n",
    "plt.show()"
   ]
  },
  {
   "cell_type": "markdown",
   "id": "130d4bdf",
   "metadata": {},
   "source": [
    "Мы видим, что количество пользователей с подпиской составляет 45,6%, тогда как без подписки 54,4% пользователей."
   ]
  },
  {
   "cell_type": "markdown",
   "id": "0fe8b121",
   "metadata": {},
   "source": [
    "#####  возраст пользователей"
   ]
  },
  {
   "cell_type": "code",
   "execution_count": 20,
   "id": "ffb959a9",
   "metadata": {},
   "outputs": [
    {
     "data": {
      "image/png": "[encoded data removed]",
      "text/plain": [
       "<Figure size 432x288 with 1 Axes>"
      ]
     },
     "metadata": {
      "needs_background": "light"
     },
     "output_type": "display_data"
    }
   ],
   "source": [
    "age_groups = []\n",
    "\n",
    "for age in users['age']:\n",
    "    if age < 18:\n",
    "        age_groups.append('младше 18 лет')\n",
    "    if 18<=age<25:\n",
    "        age_groups.append('с 18 до 25 лет')\n",
    "    if 25<=age<30:\n",
    "        age_groups.append('с 25 до 30 лет')  \n",
    "    if age>=30:\n",
    "        age_groups.append('старше 30 лет')\n",
    "        \n",
    "users['age_groups'] = age_groups\n",
    "\n",
    "users.pivot_table(index='age_groups', values='user_id', aggfunc='count').plot.bar(grid=True)\n",
    "plt.title('Группы пользователей по возрасту')\n",
    "plt.show()"
   ]
  },
  {
   "cell_type": "markdown",
   "id": "b707ddf3",
   "metadata": {},
   "source": [
    "Наиболее многочисленная группа - пользователи в возрасте с 18 до 25 лет (около 650 чел). Пользователей с 25 до 30 лет немного меньше по количеству - около 600 чел. Далее идут пользователи старше 30 лет - их около 250. и Самая малочисленная группа пользователей младше 18 лет."
   ]
  },
  {
   "cell_type": "markdown",
   "id": "77b8b147",
   "metadata": {},
   "source": [
    "##### расстояние, которое пользователь преодолел за одну поездку"
   ]
  },
  {
   "cell_type": "code",
   "execution_count": 21,
   "id": "4d7000da",
   "metadata": {
    "scrolled": true
   },
   "outputs": [
    {
     "data": {
      "image/png": "[encoded data removed]",
      "text/plain": [
       "<Figure size 432x288 with 1 Axes>"
      ]
     },
     "metadata": {
      "needs_background": "light"
     },
     "output_type": "display_data"
    }
   ],
   "source": [
    "rides['distance'].hist(bins=30)\n",
    "plt.title('Расстояние, которое пользователь преодолел за одну поездку (в метрах)')\n",
    "plt.show()"
   ]
  },
  {
   "cell_type": "code",
   "execution_count": 22,
   "id": "d572e098",
   "metadata": {},
   "outputs": [
    {
     "data": {
      "image/png": "[encoded data removed]",
      "text/plain": [
       "<Figure size 576x144 with 1 Axes>"
      ]
     },
     "metadata": {
      "needs_background": "light"
     },
     "output_type": "display_data"
    }
   ],
   "source": [
    "plt.figure(figsize=(8, 2))\n",
    "plt.boxplot(rides['distance'], vert=False)\n",
    "plt.title('Распределение расстояний поездок')\n",
    "plt.xlabel('Метры')\n",
    "\n",
    "plt.tight_layout()\n",
    "plt.show()"
   ]
  },
  {
   "cell_type": "markdown",
   "id": "ea46edd9",
   "metadata": {},
   "source": [
    "Основная часть поездок занимает от 2500 до 3800 метров. Медиана 3133 метра. Поездки на расстояние более 5 км редки. Однако на гистограмме видно, что некоторая часть пользователей использует самокаты для коротких поездок - до 1500 м."
   ]
  },
  {
   "cell_type": "markdown",
   "id": "1fb4f2d0",
   "metadata": {},
   "source": [
    "##### продолжительность поездок"
   ]
  },
  {
   "cell_type": "code",
   "execution_count": 23,
   "id": "855bc9e7",
   "metadata": {
    "scrolled": true
   },
   "outputs": [
    {
     "data": {
      "image/png": "[encoded data removed]",
      "text/plain": [
       "<Figure size 432x288 with 1 Axes>"
      ]
     },
     "metadata": {
      "needs_background": "light"
     },
     "output_type": "display_data"
    }
   ],
   "source": [
    "rides['duration'].hist(bins=30)\n",
    "plt.title('продолжительность поездок (в минутах)')\n",
    "plt.show()"
   ]
  },
  {
   "cell_type": "code",
   "execution_count": 24,
   "id": "9b312eea",
   "metadata": {
    "scrolled": true
   },
   "outputs": [
    {
     "data": {
      "image/png": "[encoded data removed]",
      "text/plain": [
       "<Figure size 576x144 with 1 Axes>"
      ]
     },
     "metadata": {
      "needs_background": "light"
     },
     "output_type": "display_data"
    }
   ],
   "source": [
    "plt.figure(figsize=(8, 2))\n",
    "plt.boxplot(rides['duration'], vert=False)\n",
    "plt.title('Продолжительность поездок')\n",
    "plt.xlabel('Минуты')\n",
    "plt.yticks([])\n",
    "plt.show()"
   ]
  },
  {
   "cell_type": "markdown",
   "id": "7ec84412",
   "metadata": {},
   "source": [
    "Мы видим что распределение продолжительности поездок стремится к нормальному, с наибольшим количеством значений в диапазоне между 15 и 20 минутами"
   ]
  },
  {
   "cell_type": "markdown",
   "id": "4ef51331",
   "metadata": {},
   "source": [
    "#### Объединение данных"
   ]
  },
  {
   "cell_type": "markdown",
   "id": "299d6ee2",
   "metadata": {},
   "source": [
    "Объединим данные о пользователях, поездках и подписках в один датафрейм."
   ]
  },
  {
   "cell_type": "code",
   "execution_count": 25,
   "id": "c5e9aa07",
   "metadata": {
    "scrolled": true
   },
   "outputs": [
    {
     "data": {
      "text/html": [
       "<div>\n",
       "<style scoped>\n",
       "    .dataframe tbody tr th:only-of-type {\n",
       "        vertical-align: middle;\n",
       "    }\n",
       "\n",
       "    .dataframe tbody tr th {\n",
       "        vertical-align: top;\n",
       "    }\n",
       "\n",
       "    .dataframe thead th {\n",
       "        text-align: right;\n",
       "    }\n",
       "</style>\n",
       "<table border=\"1\" class=\"dataframe\">\n",
       "  <thead>\n",
       "    <tr style=\"text-align: right;\">\n",
       "      <th></th>\n",
       "      <th>user_id</th>\n",
       "      <th>name</th>\n",
       "      <th>age</th>\n",
       "      <th>city</th>\n",
       "      <th>subscription_type</th>\n",
       "      <th>age_groups</th>\n",
       "      <th>distance</th>\n",
       "      <th>duration</th>\n",
       "      <th>date</th>\n",
       "      <th>month</th>\n",
       "      <th>minute_price</th>\n",
       "      <th>start_ride_price</th>\n",
       "      <th>subscription_fee</th>\n",
       "    </tr>\n",
       "  </thead>\n",
       "  <tbody>\n",
       "    <tr>\n",
       "      <th>0</th>\n",
       "      <td>1</td>\n",
       "      <td>Кира</td>\n",
       "      <td>22</td>\n",
       "      <td>Тюмень</td>\n",
       "      <td>ultra</td>\n",
       "      <td>с 18 до 25 лет</td>\n",
       "      <td>4409.919140</td>\n",
       "      <td>25.599769</td>\n",
       "      <td>2021-01-01</td>\n",
       "      <td>1</td>\n",
       "      <td>6</td>\n",
       "      <td>0</td>\n",
       "      <td>199</td>\n",
       "    </tr>\n",
       "    <tr>\n",
       "      <th>1</th>\n",
       "      <td>1</td>\n",
       "      <td>Кира</td>\n",
       "      <td>22</td>\n",
       "      <td>Тюмень</td>\n",
       "      <td>ultra</td>\n",
       "      <td>с 18 до 25 лет</td>\n",
       "      <td>2617.592153</td>\n",
       "      <td>15.816871</td>\n",
       "      <td>2021-01-18</td>\n",
       "      <td>1</td>\n",
       "      <td>6</td>\n",
       "      <td>0</td>\n",
       "      <td>199</td>\n",
       "    </tr>\n",
       "    <tr>\n",
       "      <th>2</th>\n",
       "      <td>1</td>\n",
       "      <td>Кира</td>\n",
       "      <td>22</td>\n",
       "      <td>Тюмень</td>\n",
       "      <td>ultra</td>\n",
       "      <td>с 18 до 25 лет</td>\n",
       "      <td>754.159807</td>\n",
       "      <td>6.232113</td>\n",
       "      <td>2021-04-20</td>\n",
       "      <td>4</td>\n",
       "      <td>6</td>\n",
       "      <td>0</td>\n",
       "      <td>199</td>\n",
       "    </tr>\n",
       "    <tr>\n",
       "      <th>3</th>\n",
       "      <td>1</td>\n",
       "      <td>Кира</td>\n",
       "      <td>22</td>\n",
       "      <td>Тюмень</td>\n",
       "      <td>ultra</td>\n",
       "      <td>с 18 до 25 лет</td>\n",
       "      <td>2694.783254</td>\n",
       "      <td>18.511000</td>\n",
       "      <td>2021-08-11</td>\n",
       "      <td>8</td>\n",
       "      <td>6</td>\n",
       "      <td>0</td>\n",
       "      <td>199</td>\n",
       "    </tr>\n",
       "    <tr>\n",
       "      <th>4</th>\n",
       "      <td>1</td>\n",
       "      <td>Кира</td>\n",
       "      <td>22</td>\n",
       "      <td>Тюмень</td>\n",
       "      <td>ultra</td>\n",
       "      <td>с 18 до 25 лет</td>\n",
       "      <td>4028.687306</td>\n",
       "      <td>26.265803</td>\n",
       "      <td>2021-08-28</td>\n",
       "      <td>8</td>\n",
       "      <td>6</td>\n",
       "      <td>0</td>\n",
       "      <td>199</td>\n",
       "    </tr>\n",
       "    <tr>\n",
       "      <th>...</th>\n",
       "      <td>...</td>\n",
       "      <td>...</td>\n",
       "      <td>...</td>\n",
       "      <td>...</td>\n",
       "      <td>...</td>\n",
       "      <td>...</td>\n",
       "      <td>...</td>\n",
       "      <td>...</td>\n",
       "      <td>...</td>\n",
       "      <td>...</td>\n",
       "      <td>...</td>\n",
       "      <td>...</td>\n",
       "      <td>...</td>\n",
       "    </tr>\n",
       "    <tr>\n",
       "      <th>18063</th>\n",
       "      <td>1534</td>\n",
       "      <td>Альберт</td>\n",
       "      <td>25</td>\n",
       "      <td>Краснодар</td>\n",
       "      <td>free</td>\n",
       "      <td>с 25 до 30 лет</td>\n",
       "      <td>3781.098080</td>\n",
       "      <td>19.822962</td>\n",
       "      <td>2021-11-04</td>\n",
       "      <td>11</td>\n",
       "      <td>8</td>\n",
       "      <td>50</td>\n",
       "      <td>0</td>\n",
       "    </tr>\n",
       "    <tr>\n",
       "      <th>18064</th>\n",
       "      <td>1534</td>\n",
       "      <td>Альберт</td>\n",
       "      <td>25</td>\n",
       "      <td>Краснодар</td>\n",
       "      <td>free</td>\n",
       "      <td>с 25 до 30 лет</td>\n",
       "      <td>2840.423057</td>\n",
       "      <td>21.409799</td>\n",
       "      <td>2021-11-16</td>\n",
       "      <td>11</td>\n",
       "      <td>8</td>\n",
       "      <td>50</td>\n",
       "      <td>0</td>\n",
       "    </tr>\n",
       "    <tr>\n",
       "      <th>18065</th>\n",
       "      <td>1534</td>\n",
       "      <td>Альберт</td>\n",
       "      <td>25</td>\n",
       "      <td>Краснодар</td>\n",
       "      <td>free</td>\n",
       "      <td>с 25 до 30 лет</td>\n",
       "      <td>3826.185507</td>\n",
       "      <td>18.435051</td>\n",
       "      <td>2021-11-18</td>\n",
       "      <td>11</td>\n",
       "      <td>8</td>\n",
       "      <td>50</td>\n",
       "      <td>0</td>\n",
       "    </tr>\n",
       "    <tr>\n",
       "      <th>18066</th>\n",
       "      <td>1534</td>\n",
       "      <td>Альберт</td>\n",
       "      <td>25</td>\n",
       "      <td>Краснодар</td>\n",
       "      <td>free</td>\n",
       "      <td>с 25 до 30 лет</td>\n",
       "      <td>2902.308661</td>\n",
       "      <td>16.674362</td>\n",
       "      <td>2021-11-27</td>\n",
       "      <td>11</td>\n",
       "      <td>8</td>\n",
       "      <td>50</td>\n",
       "      <td>0</td>\n",
       "    </tr>\n",
       "    <tr>\n",
       "      <th>18067</th>\n",
       "      <td>1534</td>\n",
       "      <td>Альберт</td>\n",
       "      <td>25</td>\n",
       "      <td>Краснодар</td>\n",
       "      <td>free</td>\n",
       "      <td>с 25 до 30 лет</td>\n",
       "      <td>2371.711192</td>\n",
       "      <td>15.893917</td>\n",
       "      <td>2021-12-29</td>\n",
       "      <td>12</td>\n",
       "      <td>8</td>\n",
       "      <td>50</td>\n",
       "      <td>0</td>\n",
       "    </tr>\n",
       "  </tbody>\n",
       "</table>\n",
       "<p>18068 rows × 13 columns</p>\n",
       "</div>"
      ],
      "text/plain": [
       "       user_id     name  age       city subscription_type      age_groups  \\\n",
       "0            1     Кира   22     Тюмень             ultra  с 18 до 25 лет   \n",
       "1            1     Кира   22     Тюмень             ultra  с 18 до 25 лет   \n",
       "2            1     Кира   22     Тюмень             ultra  с 18 до 25 лет   \n",
       "3            1     Кира   22     Тюмень             ultra  с 18 до 25 лет   \n",
       "4            1     Кира   22     Тюмень             ultra  с 18 до 25 лет   \n",
       "...        ...      ...  ...        ...               ...             ...   \n",
       "18063     1534  Альберт   25  Краснодар              free  с 25 до 30 лет   \n",
       "18064     1534  Альберт   25  Краснодар              free  с 25 до 30 лет   \n",
       "18065     1534  Альберт   25  Краснодар              free  с 25 до 30 лет   \n",
       "18066     1534  Альберт   25  Краснодар              free  с 25 до 30 лет   \n",
       "18067     1534  Альберт   25  Краснодар              free  с 25 до 30 лет   \n",
       "\n",
       "          distance   duration       date  month  minute_price  \\\n",
       "0      4409.919140  25.599769 2021-01-01      1             6   \n",
       "1      2617.592153  15.816871 2021-01-18      1             6   \n",
       "2       754.159807   6.232113 2021-04-20      4             6   \n",
       "3      2694.783254  18.511000 2021-08-11      8             6   \n",
       "4      4028.687306  26.265803 2021-08-28      8             6   \n",
       "...            ...        ...        ...    ...           ...   \n",
       "18063  3781.098080  19.822962 2021-11-04     11             8   \n",
       "18064  2840.423057  21.409799 2021-11-16     11             8   \n",
       "18065  3826.185507  18.435051 2021-11-18     11             8   \n",
       "18066  2902.308661  16.674362 2021-11-27     11             8   \n",
       "18067  2371.711192  15.893917 2021-12-29     12             8   \n",
       "\n",
       "       start_ride_price  subscription_fee  \n",
       "0                     0               199  \n",
       "1                     0               199  \n",
       "2                     0               199  \n",
       "3                     0               199  \n",
       "4                     0               199  \n",
       "...                 ...               ...  \n",
       "18063                50                 0  \n",
       "18064                50                 0  \n",
       "18065                50                 0  \n",
       "18066                50                 0  \n",
       "18067                50                 0  \n",
       "\n",
       "[18068 rows x 13 columns]"
      ]
     },
     "execution_count": 25,
     "metadata": {},
     "output_type": "execute_result"
    }
   ],
   "source": [
    "df = users.merge(rides, on='user_id', how='left')\n",
    "df = df.merge(subscriptions, on='subscription_type', how='left')\n",
    "df"
   ]
  },
  {
   "cell_type": "code",
   "execution_count": 26,
   "id": "d12a5cd6",
   "metadata": {
    "scrolled": true
   },
   "outputs": [
    {
     "name": "stdout",
     "output_type": "stream",
     "text": [
      "Количество явных дубликатов в `df` =  0 \n",
      "\n",
      "<class 'pandas.core.frame.DataFrame'>\n",
      "Int64Index: 18068 entries, 0 to 18067\n",
      "Data columns (total 13 columns):\n",
      " #   Column             Non-Null Count  Dtype         \n",
      "---  ------             --------------  -----         \n",
      " 0   user_id            18068 non-null  int64         \n",
      " 1   name               18068 non-null  object        \n",
      " 2   age                18068 non-null  int64         \n",
      " 3   city               18068 non-null  object        \n",
      " 4   subscription_type  18068 non-null  object        \n",
      " 5   age_groups         18068 non-null  object        \n",
      " 6   distance           18068 non-null  float64       \n",
      " 7   duration           18068 non-null  float64       \n",
      " 8   date               18068 non-null  datetime64[ns]\n",
      " 9   month              18068 non-null  int64         \n",
      " 10  minute_price       18068 non-null  int64         \n",
      " 11  start_ride_price   18068 non-null  int64         \n",
      " 12  subscription_fee   18068 non-null  int64         \n",
      "dtypes: datetime64[ns](1), float64(2), int64(6), object(4)\n",
      "memory usage: 1.9+ MB\n"
     ]
    }
   ],
   "source": [
    "print('Количество явных дубликатов в `df` = ', df.duplicated().sum(), '\\n')\n",
    "df.info()"
   ]
  },
  {
   "cell_type": "markdown",
   "id": "709f1e2f",
   "metadata": {},
   "source": [
    "Созданный датафрейм df объединяющий таблицы rides_go, users_go, subscriptions_go в своем составе имеет 18068 строк во всех столбцах, что соответствует исходной таблице rides_go и указывает на отсутствие пропусков в столбцах. Дополнительная произведена проверка на явные дубликаты."
   ]
  },
  {
   "cell_type": "markdown",
   "id": "ac751ace",
   "metadata": {},
   "source": [
    "Cоздадим ещё два датафрейма: c данными о пользователях без подписки и с подпиской."
   ]
  },
  {
   "cell_type": "code",
   "execution_count": 27,
   "id": "b43a7ede",
   "metadata": {},
   "outputs": [
    {
     "data": {
      "text/html": [
       "<div>\n",
       "<style scoped>\n",
       "    .dataframe tbody tr th:only-of-type {\n",
       "        vertical-align: middle;\n",
       "    }\n",
       "\n",
       "    .dataframe tbody tr th {\n",
       "        vertical-align: top;\n",
       "    }\n",
       "\n",
       "    .dataframe thead th {\n",
       "        text-align: right;\n",
       "    }\n",
       "</style>\n",
       "<table border=\"1\" class=\"dataframe\">\n",
       "  <thead>\n",
       "    <tr style=\"text-align: right;\">\n",
       "      <th></th>\n",
       "      <th>user_id</th>\n",
       "      <th>name</th>\n",
       "      <th>age</th>\n",
       "      <th>city</th>\n",
       "      <th>subscription_type</th>\n",
       "      <th>age_groups</th>\n",
       "      <th>distance</th>\n",
       "      <th>duration</th>\n",
       "      <th>date</th>\n",
       "      <th>month</th>\n",
       "      <th>minute_price</th>\n",
       "      <th>start_ride_price</th>\n",
       "      <th>subscription_fee</th>\n",
       "    </tr>\n",
       "  </thead>\n",
       "  <tbody>\n",
       "    <tr>\n",
       "      <th>6500</th>\n",
       "      <td>700</td>\n",
       "      <td>Айдар</td>\n",
       "      <td>22</td>\n",
       "      <td>Омск</td>\n",
       "      <td>free</td>\n",
       "      <td>с 18 до 25 лет</td>\n",
       "      <td>2515.690719</td>\n",
       "      <td>14.944286</td>\n",
       "      <td>2021-01-02</td>\n",
       "      <td>1</td>\n",
       "      <td>8</td>\n",
       "      <td>50</td>\n",
       "      <td>0</td>\n",
       "    </tr>\n",
       "    <tr>\n",
       "      <th>6501</th>\n",
       "      <td>700</td>\n",
       "      <td>Айдар</td>\n",
       "      <td>22</td>\n",
       "      <td>Омск</td>\n",
       "      <td>free</td>\n",
       "      <td>с 18 до 25 лет</td>\n",
       "      <td>846.932642</td>\n",
       "      <td>16.234663</td>\n",
       "      <td>2021-02-01</td>\n",
       "      <td>2</td>\n",
       "      <td>8</td>\n",
       "      <td>50</td>\n",
       "      <td>0</td>\n",
       "    </tr>\n",
       "    <tr>\n",
       "      <th>6502</th>\n",
       "      <td>700</td>\n",
       "      <td>Айдар</td>\n",
       "      <td>22</td>\n",
       "      <td>Омск</td>\n",
       "      <td>free</td>\n",
       "      <td>с 18 до 25 лет</td>\n",
       "      <td>4004.434142</td>\n",
       "      <td>20.016628</td>\n",
       "      <td>2021-02-04</td>\n",
       "      <td>2</td>\n",
       "      <td>8</td>\n",
       "      <td>50</td>\n",
       "      <td>0</td>\n",
       "    </tr>\n",
       "    <tr>\n",
       "      <th>6503</th>\n",
       "      <td>700</td>\n",
       "      <td>Айдар</td>\n",
       "      <td>22</td>\n",
       "      <td>Омск</td>\n",
       "      <td>free</td>\n",
       "      <td>с 18 до 25 лет</td>\n",
       "      <td>1205.911290</td>\n",
       "      <td>9.782872</td>\n",
       "      <td>2021-02-10</td>\n",
       "      <td>2</td>\n",
       "      <td>8</td>\n",
       "      <td>50</td>\n",
       "      <td>0</td>\n",
       "    </tr>\n",
       "    <tr>\n",
       "      <th>6504</th>\n",
       "      <td>700</td>\n",
       "      <td>Айдар</td>\n",
       "      <td>22</td>\n",
       "      <td>Омск</td>\n",
       "      <td>free</td>\n",
       "      <td>с 18 до 25 лет</td>\n",
       "      <td>3047.379435</td>\n",
       "      <td>17.427673</td>\n",
       "      <td>2021-02-14</td>\n",
       "      <td>2</td>\n",
       "      <td>8</td>\n",
       "      <td>50</td>\n",
       "      <td>0</td>\n",
       "    </tr>\n",
       "  </tbody>\n",
       "</table>\n",
       "</div>"
      ],
      "text/plain": [
       "      user_id   name  age  city subscription_type      age_groups  \\\n",
       "6500      700  Айдар   22  Омск              free  с 18 до 25 лет   \n",
       "6501      700  Айдар   22  Омск              free  с 18 до 25 лет   \n",
       "6502      700  Айдар   22  Омск              free  с 18 до 25 лет   \n",
       "6503      700  Айдар   22  Омск              free  с 18 до 25 лет   \n",
       "6504      700  Айдар   22  Омск              free  с 18 до 25 лет   \n",
       "\n",
       "         distance   duration       date  month  minute_price  \\\n",
       "6500  2515.690719  14.944286 2021-01-02      1             8   \n",
       "6501   846.932642  16.234663 2021-02-01      2             8   \n",
       "6502  4004.434142  20.016628 2021-02-04      2             8   \n",
       "6503  1205.911290   9.782872 2021-02-10      2             8   \n",
       "6504  3047.379435  17.427673 2021-02-14      2             8   \n",
       "\n",
       "      start_ride_price  subscription_fee  \n",
       "6500                50                 0  \n",
       "6501                50                 0  \n",
       "6502                50                 0  \n",
       "6503                50                 0  \n",
       "6504                50                 0  "
      ]
     },
     "execution_count": 27,
     "metadata": {},
     "output_type": "execute_result"
    }
   ],
   "source": [
    "df_free = df.query('subscription_type == \"free\"')\n",
    "df_free.head()"
   ]
  },
  {
   "cell_type": "code",
   "execution_count": 28,
   "id": "c8a98dbb",
   "metadata": {
    "scrolled": true
   },
   "outputs": [
    {
     "data": {
      "text/html": [
       "<div>\n",
       "<style scoped>\n",
       "    .dataframe tbody tr th:only-of-type {\n",
       "        vertical-align: middle;\n",
       "    }\n",
       "\n",
       "    .dataframe tbody tr th {\n",
       "        vertical-align: top;\n",
       "    }\n",
       "\n",
       "    .dataframe thead th {\n",
       "        text-align: right;\n",
       "    }\n",
       "</style>\n",
       "<table border=\"1\" class=\"dataframe\">\n",
       "  <thead>\n",
       "    <tr style=\"text-align: right;\">\n",
       "      <th></th>\n",
       "      <th>user_id</th>\n",
       "      <th>name</th>\n",
       "      <th>age</th>\n",
       "      <th>city</th>\n",
       "      <th>subscription_type</th>\n",
       "      <th>age_groups</th>\n",
       "      <th>distance</th>\n",
       "      <th>duration</th>\n",
       "      <th>date</th>\n",
       "      <th>month</th>\n",
       "      <th>minute_price</th>\n",
       "      <th>start_ride_price</th>\n",
       "      <th>subscription_fee</th>\n",
       "    </tr>\n",
       "  </thead>\n",
       "  <tbody>\n",
       "    <tr>\n",
       "      <th>0</th>\n",
       "      <td>1</td>\n",
       "      <td>Кира</td>\n",
       "      <td>22</td>\n",
       "      <td>Тюмень</td>\n",
       "      <td>ultra</td>\n",
       "      <td>с 18 до 25 лет</td>\n",
       "      <td>4409.919140</td>\n",
       "      <td>25.599769</td>\n",
       "      <td>2021-01-01</td>\n",
       "      <td>1</td>\n",
       "      <td>6</td>\n",
       "      <td>0</td>\n",
       "      <td>199</td>\n",
       "    </tr>\n",
       "    <tr>\n",
       "      <th>1</th>\n",
       "      <td>1</td>\n",
       "      <td>Кира</td>\n",
       "      <td>22</td>\n",
       "      <td>Тюмень</td>\n",
       "      <td>ultra</td>\n",
       "      <td>с 18 до 25 лет</td>\n",
       "      <td>2617.592153</td>\n",
       "      <td>15.816871</td>\n",
       "      <td>2021-01-18</td>\n",
       "      <td>1</td>\n",
       "      <td>6</td>\n",
       "      <td>0</td>\n",
       "      <td>199</td>\n",
       "    </tr>\n",
       "    <tr>\n",
       "      <th>2</th>\n",
       "      <td>1</td>\n",
       "      <td>Кира</td>\n",
       "      <td>22</td>\n",
       "      <td>Тюмень</td>\n",
       "      <td>ultra</td>\n",
       "      <td>с 18 до 25 лет</td>\n",
       "      <td>754.159807</td>\n",
       "      <td>6.232113</td>\n",
       "      <td>2021-04-20</td>\n",
       "      <td>4</td>\n",
       "      <td>6</td>\n",
       "      <td>0</td>\n",
       "      <td>199</td>\n",
       "    </tr>\n",
       "    <tr>\n",
       "      <th>3</th>\n",
       "      <td>1</td>\n",
       "      <td>Кира</td>\n",
       "      <td>22</td>\n",
       "      <td>Тюмень</td>\n",
       "      <td>ultra</td>\n",
       "      <td>с 18 до 25 лет</td>\n",
       "      <td>2694.783254</td>\n",
       "      <td>18.511000</td>\n",
       "      <td>2021-08-11</td>\n",
       "      <td>8</td>\n",
       "      <td>6</td>\n",
       "      <td>0</td>\n",
       "      <td>199</td>\n",
       "    </tr>\n",
       "    <tr>\n",
       "      <th>4</th>\n",
       "      <td>1</td>\n",
       "      <td>Кира</td>\n",
       "      <td>22</td>\n",
       "      <td>Тюмень</td>\n",
       "      <td>ultra</td>\n",
       "      <td>с 18 до 25 лет</td>\n",
       "      <td>4028.687306</td>\n",
       "      <td>26.265803</td>\n",
       "      <td>2021-08-28</td>\n",
       "      <td>8</td>\n",
       "      <td>6</td>\n",
       "      <td>0</td>\n",
       "      <td>199</td>\n",
       "    </tr>\n",
       "  </tbody>\n",
       "</table>\n",
       "</div>"
      ],
      "text/plain": [
       "   user_id  name  age    city subscription_type      age_groups     distance  \\\n",
       "0        1  Кира   22  Тюмень             ultra  с 18 до 25 лет  4409.919140   \n",
       "1        1  Кира   22  Тюмень             ultra  с 18 до 25 лет  2617.592153   \n",
       "2        1  Кира   22  Тюмень             ultra  с 18 до 25 лет   754.159807   \n",
       "3        1  Кира   22  Тюмень             ultra  с 18 до 25 лет  2694.783254   \n",
       "4        1  Кира   22  Тюмень             ultra  с 18 до 25 лет  4028.687306   \n",
       "\n",
       "    duration       date  month  minute_price  start_ride_price  \\\n",
       "0  25.599769 2021-01-01      1             6                 0   \n",
       "1  15.816871 2021-01-18      1             6                 0   \n",
       "2   6.232113 2021-04-20      4             6                 0   \n",
       "3  18.511000 2021-08-11      8             6                 0   \n",
       "4  26.265803 2021-08-28      8             6                 0   \n",
       "\n",
       "   subscription_fee  \n",
       "0               199  \n",
       "1               199  \n",
       "2               199  \n",
       "3               199  \n",
       "4               199  "
      ]
     },
     "execution_count": 28,
     "metadata": {},
     "output_type": "execute_result"
    }
   ],
   "source": [
    "df_ultra = df.query('subscription_type == \"ultra\"')\n",
    "df_ultra.head()"
   ]
  },
  {
   "cell_type": "markdown",
   "id": "52bf7cfc",
   "metadata": {},
   "source": [
    "Визуализируем информацию о расстоянии и времени поездок для пользователей обеих категорий."
   ]
  },
  {
   "cell_type": "code",
   "execution_count": 29,
   "id": "464b08a7",
   "metadata": {
    "scrolled": true
   },
   "outputs": [
    {
     "data": {
      "image/png": "[encoded data removed]",
      "text/plain": [
       "<Figure size 432x288 with 1 Axes>"
      ]
     },
     "metadata": {
      "needs_background": "light"
     },
     "output_type": "display_data"
    }
   ],
   "source": [
    "plt.hist([df_free['distance'], df_ultra['distance']], bins=50, range=(1,5600), label=['free', 'ultra'])\n",
    "plt.legend(loc='upper right')\n",
    "plt.title('Количество поездок в зависимости от расстояния поездки')\n",
    "plt.xlabel('Расстояние в метрах')\n",
    "plt.ylabel('Количество поездок')\n",
    "plt.show()"
   ]
  },
  {
   "cell_type": "markdown",
   "id": "bddb7cd5",
   "metadata": {},
   "source": [
    "У пользователей без подписки значительно больше коротких поездок - до 1 км и в целом максимальная дальность поездки выше, чем у платных пользователей."
   ]
  },
  {
   "cell_type": "code",
   "execution_count": 30,
   "id": "46fbb3e5",
   "metadata": {},
   "outputs": [
    {
     "data": {
      "image/png": "[encoded data removed]",
      "text/plain": [
       "<Figure size 432x288 with 1 Axes>"
      ]
     },
     "metadata": {
      "needs_background": "light"
     },
     "output_type": "display_data"
    }
   ],
   "source": [
    "plt.hist([df_free['duration'], df_ultra['duration']], bins=50, range=(1,30), label=['free', 'ultra'])\n",
    "plt.legend(loc='upper right')\n",
    "plt.title('Количество поездок в зависимости от продолжительности')\n",
    "plt.xlabel('Продолжительность в минутах')\n",
    "plt.ylabel('Количество поездок')\n",
    "plt.show()"
   ]
  },
  {
   "cell_type": "markdown",
   "id": "6aa604d6",
   "metadata": {},
   "source": [
    "В целом картина такая же - распределение внутри категорий имеют одинаковый профиль (и одинаковый с профилем распределения до разбивки на категории - строили на ранних этапах), но в каждом из диапазонов бесплатных пользователей чуть больше, но их, как мы помним, и в целом больше.\n",
    "\n",
    "Краевые значения (минимум и максимум) у бесплатных пользователей смещены влево относительно платных подписчиков - стоимость минуты все-таки больше, значит часть пользователей торопится завершить поездки за меньший срок. Но при этом визуально среднее значение не сильно смещено"
   ]
  },
  {
   "cell_type": "markdown",
   "id": "402d620f",
   "metadata": {},
   "source": [
    "#### Подсчёт выручки"
   ]
  },
  {
   "cell_type": "markdown",
   "id": "c4f65a6b",
   "metadata": {},
   "source": [
    "Создадим датафрейм с агрегированными данными о поездках на основе датафрейма с объединёнными данными"
   ]
  },
  {
   "cell_type": "code",
   "execution_count": 31,
   "id": "9069c056",
   "metadata": {},
   "outputs": [],
   "source": [
    "df['distance'] = df['distance'].round(2)\n",
    "df['duration'] = np.ceil(df['duration']).astype('int')\n",
    "\n",
    "users_months_revenue = df.pivot_table(\n",
    "    index=('user_id', 'month'), \n",
    "    values=(\n",
    "        'distance', \n",
    "        'duration', \n",
    "        'minute_price', \n",
    "        'start_ride_price', \n",
    "        'subscription_fee'\n",
    "    ), \n",
    "    aggfunc=({'distance':{'count', 'sum'}, \n",
    "             'duration':'sum',\n",
    "             'minute_price': 'mean',\n",
    "             'start_ride_price':'mean',\n",
    "             'subscription_fee':'mean',})\n",
    ")\n",
    "\n",
    "users_months_revenue.columns = [\n",
    "    'count', 'distance', \n",
    "    'duration', \n",
    "    'minute_price',\n",
    "    'start_ride_price', \n",
    "    'subscription_fee'\n",
    "]"
   ]
  },
  {
   "cell_type": "code",
   "execution_count": 32,
   "id": "3638af89",
   "metadata": {},
   "outputs": [
    {
     "data": {
      "text/html": [
       "<div>\n",
       "<style scoped>\n",
       "    .dataframe tbody tr th:only-of-type {\n",
       "        vertical-align: middle;\n",
       "    }\n",
       "\n",
       "    .dataframe tbody tr th {\n",
       "        vertical-align: top;\n",
       "    }\n",
       "\n",
       "    .dataframe thead th {\n",
       "        text-align: right;\n",
       "    }\n",
       "</style>\n",
       "<table border=\"1\" class=\"dataframe\">\n",
       "  <thead>\n",
       "    <tr style=\"text-align: right;\">\n",
       "      <th></th>\n",
       "      <th></th>\n",
       "      <th>count</th>\n",
       "      <th>distance</th>\n",
       "      <th>duration</th>\n",
       "      <th>minute_price</th>\n",
       "      <th>start_ride_price</th>\n",
       "      <th>subscription_fee</th>\n",
       "    </tr>\n",
       "    <tr>\n",
       "      <th>user_id</th>\n",
       "      <th>month</th>\n",
       "      <th></th>\n",
       "      <th></th>\n",
       "      <th></th>\n",
       "      <th></th>\n",
       "      <th></th>\n",
       "      <th></th>\n",
       "    </tr>\n",
       "  </thead>\n",
       "  <tbody>\n",
       "    <tr>\n",
       "      <th rowspan=\"6\" valign=\"top\">1</th>\n",
       "      <th>1</th>\n",
       "      <td>2</td>\n",
       "      <td>7027.51</td>\n",
       "      <td>42</td>\n",
       "      <td>6</td>\n",
       "      <td>0</td>\n",
       "      <td>199</td>\n",
       "    </tr>\n",
       "    <tr>\n",
       "      <th>4</th>\n",
       "      <td>1</td>\n",
       "      <td>754.16</td>\n",
       "      <td>7</td>\n",
       "      <td>6</td>\n",
       "      <td>0</td>\n",
       "      <td>199</td>\n",
       "    </tr>\n",
       "    <tr>\n",
       "      <th>8</th>\n",
       "      <td>2</td>\n",
       "      <td>6723.47</td>\n",
       "      <td>46</td>\n",
       "      <td>6</td>\n",
       "      <td>0</td>\n",
       "      <td>199</td>\n",
       "    </tr>\n",
       "    <tr>\n",
       "      <th>10</th>\n",
       "      <td>2</td>\n",
       "      <td>5809.91</td>\n",
       "      <td>32</td>\n",
       "      <td>6</td>\n",
       "      <td>0</td>\n",
       "      <td>199</td>\n",
       "    </tr>\n",
       "    <tr>\n",
       "      <th>11</th>\n",
       "      <td>3</td>\n",
       "      <td>7003.50</td>\n",
       "      <td>56</td>\n",
       "      <td>6</td>\n",
       "      <td>0</td>\n",
       "      <td>199</td>\n",
       "    </tr>\n",
       "    <tr>\n",
       "      <th>12</th>\n",
       "      <td>2</td>\n",
       "      <td>6751.63</td>\n",
       "      <td>28</td>\n",
       "      <td>6</td>\n",
       "      <td>0</td>\n",
       "      <td>199</td>\n",
       "    </tr>\n",
       "    <tr>\n",
       "      <th rowspan=\"4\" valign=\"top\">2</th>\n",
       "      <th>3</th>\n",
       "      <td>3</td>\n",
       "      <td>10187.73</td>\n",
       "      <td>63</td>\n",
       "      <td>6</td>\n",
       "      <td>0</td>\n",
       "      <td>199</td>\n",
       "    </tr>\n",
       "    <tr>\n",
       "      <th>4</th>\n",
       "      <td>2</td>\n",
       "      <td>6164.39</td>\n",
       "      <td>40</td>\n",
       "      <td>6</td>\n",
       "      <td>0</td>\n",
       "      <td>199</td>\n",
       "    </tr>\n",
       "    <tr>\n",
       "      <th>6</th>\n",
       "      <td>1</td>\n",
       "      <td>3255.34</td>\n",
       "      <td>14</td>\n",
       "      <td>6</td>\n",
       "      <td>0</td>\n",
       "      <td>199</td>\n",
       "    </tr>\n",
       "    <tr>\n",
       "      <th>7</th>\n",
       "      <td>2</td>\n",
       "      <td>6780.73</td>\n",
       "      <td>48</td>\n",
       "      <td>6</td>\n",
       "      <td>0</td>\n",
       "      <td>199</td>\n",
       "    </tr>\n",
       "  </tbody>\n",
       "</table>\n",
       "</div>"
      ],
      "text/plain": [
       "               count  distance  duration  minute_price  start_ride_price  \\\n",
       "user_id month                                                              \n",
       "1       1          2   7027.51        42             6                 0   \n",
       "        4          1    754.16         7             6                 0   \n",
       "        8          2   6723.47        46             6                 0   \n",
       "        10         2   5809.91        32             6                 0   \n",
       "        11         3   7003.50        56             6                 0   \n",
       "        12         2   6751.63        28             6                 0   \n",
       "2       3          3  10187.73        63             6                 0   \n",
       "        4          2   6164.39        40             6                 0   \n",
       "        6          1   3255.34        14             6                 0   \n",
       "        7          2   6780.73        48             6                 0   \n",
       "\n",
       "               subscription_fee  \n",
       "user_id month                    \n",
       "1       1                   199  \n",
       "        4                   199  \n",
       "        8                   199  \n",
       "        10                  199  \n",
       "        11                  199  \n",
       "        12                  199  \n",
       "2       3                   199  \n",
       "        4                   199  \n",
       "        6                   199  \n",
       "        7                   199  "
      ]
     },
     "execution_count": 32,
     "metadata": {},
     "output_type": "execute_result"
    }
   ],
   "source": [
    "users_months_revenue.head(10)"
   ]
  },
  {
   "cell_type": "markdown",
   "id": "01cc6247",
   "metadata": {},
   "source": [
    "В этот же датафрейм добавим столбец с помесячной выручкой, которую принёс каждый пользователь."
   ]
  },
  {
   "cell_type": "code",
   "execution_count": 33,
   "id": "4f9b5b73",
   "metadata": {},
   "outputs": [
    {
     "name": "stdout",
     "output_type": "stream",
     "text": [
      "Записи с  2021-01-01 00:00:00 по 2021-12-30 00:00:00\n",
      "Выручка за 2021 год составила : 3878641 руб.\n"
     ]
    }
   ],
   "source": [
    "users_months_revenue['revenue'] = (\n",
    "users_months_revenue['start_ride_price']*users_months_revenue['count']+\n",
    "users_months_revenue['minute_price']*users_months_revenue['duration']+\n",
    "users_months_revenue['subscription_fee'])\n",
    "\n",
    "print('Записи с ', df['date'].min(), 'по', df['date'].max())\n",
    "print ('Выручка за 2021 год составила :',users_months_revenue['revenue'].sum(), 'руб.')"
   ]
  },
  {
   "cell_type": "markdown",
   "id": "e89fa308",
   "metadata": {},
   "source": [
    "Вывод: выручка сервиса аренды самокатов \"GoFast\" за 2021 год составила 3 878 641.0 руб."
   ]
  },
  {
   "cell_type": "markdown",
   "id": "41545ac0",
   "metadata": {},
   "source": [
    "#### Проверка гипотез"
   ]
  },
  {
   "cell_type": "markdown",
   "id": "d76fa799",
   "metadata": {},
   "source": [
    "##### Тратят ли пользователи с подпиской больше времени на поездки"
   ]
  },
  {
   "cell_type": "markdown",
   "id": "28805a9c",
   "metadata": {},
   "source": [
    "Нулевая гипотеза: средняя продолжительность поездки у пользователей с подпиской равна средней продолжительности поездки у пользователей без подписки.\\\n",
    "Альтернативная гипотеза: Средняя продолжительность поездок с подписки больше продолжительности поездок без подписок "
   ]
  },
  {
   "cell_type": "code",
   "execution_count": 34,
   "id": "aa795da7",
   "metadata": {},
   "outputs": [
    {
     "name": "stdout",
     "output_type": "stream",
     "text": [
      "1.2804098316645618e-34\n",
      "Отвергаем нулевую гипотезу\n"
     ]
    }
   ],
   "source": [
    "results = st.ttest_ind(\n",
    "    df_ultra['duration'], \n",
    "    df_free['duration'], \n",
    "    equal_var=True, \n",
    "    alternative='greater')\n",
    "print(results.pvalue)\n",
    "\n",
    "alpha = 0.05\n",
    "if results.pvalue < alpha:\n",
    "    print('Отвергаем нулевую гипотезу')\n",
    "else:\n",
    "    print('Не отвергаем нулевую гипотезу')"
   ]
  },
  {
   "cell_type": "markdown",
   "id": "3aacc884",
   "metadata": {},
   "source": [
    "Нулевая гипотеза отвергнута, есть основания утверждать, что средняя продолжительность поездки с подпиской больше продолжительности поездок без подписки при установленном уровне значимости в 5 %."
   ]
  },
  {
   "cell_type": "markdown",
   "id": "fde72349",
   "metadata": {},
   "source": [
    "##### Можно ли сказать, что среднее расстояние, которое проезжают пользователи с подпиской за одну поездку, не превышает 3130 метров? "
   ]
  },
  {
   "cell_type": "markdown",
   "id": "3ba22a41",
   "metadata": {},
   "source": [
    "Нулевая гипотеза: среднее расстояние одной поездки равно 3130 метров.\\\n",
    "Альтернативная гипотеза: среднее расстояние одной поездки более 3130 метров"
   ]
  },
  {
   "cell_type": "code",
   "execution_count": 35,
   "id": "a3414f7a",
   "metadata": {},
   "outputs": [
    {
     "name": "stdout",
     "output_type": "stream",
     "text": [
      "0.9195368847849785\n",
      "Не отвергаем нулевую гипотезу\n"
     ]
    }
   ],
   "source": [
    "distance = 3130\n",
    "alpha = 0.05\n",
    "\n",
    "results = st.ttest_1samp(\n",
    "    df_ultra['distance'], \n",
    "    distance,\n",
    "    alternative='greater')\n",
    "\n",
    "print(results.pvalue)\n",
    "\n",
    "if results.pvalue < alpha:\n",
    "    print('Отвергаем нулевую гипотезу')\n",
    "else:\n",
    "    print('Не отвергаем нулевую гипотезу')"
   ]
  },
  {
   "cell_type": "markdown",
   "id": "b88bfd7d",
   "metadata": {},
   "source": [
    "Нулевую гипотезу не удалось отвергнуть и следовательно, есть основания утверждать, что среднее расстояние поездки, пользователей с подпиской, не превышает оптимальное расстоянием в 3130 метров с точки зрения износа самоката, при установленном уровне значимости в 5 %."
   ]
  },
  {
   "cell_type": "markdown",
   "id": "6bafa850",
   "metadata": {},
   "source": [
    "##### Будет ли помесячная выручка от пользователей с подпиской по месяцам выше, чем выручка от пользователей без подписки."
   ]
  },
  {
   "cell_type": "markdown",
   "id": "ca5e6dad",
   "metadata": {},
   "source": [
    "Нулевая гипотеза: помесячная выручка от пользователей с подпиской по месяцам равна выручке от пользователей без подписки.\\\n",
    "Альтернативная гипотеза: помесячная выручка от пользователей с подпиской по месяцам выше, чем выручка от пользователей без подписки."
   ]
  },
  {
   "cell_type": "code",
   "execution_count": 36,
   "id": "e2110ae8",
   "metadata": {
    "scrolled": false
   },
   "outputs": [
    {
     "name": "stdout",
     "output_type": "stream",
     "text": [
      "1.8850394384715216e-31\n",
      "Отвергаем нулевую гипотезу\n"
     ]
    }
   ],
   "source": [
    "revenue_ultra = users_months_revenue.query('subscription_fee>0')['revenue'] \n",
    "revenue_free = users_months_revenue.query('subscription_fee==0')['revenue']\n",
    "\n",
    "results = st.ttest_ind(\n",
    "    revenue_ultra,\n",
    "    revenue_free,\n",
    "    equal_var=True, \n",
    "    alternative='greater')\n",
    "print(results.pvalue)\n",
    "\n",
    "alpha = 0.05\n",
    "if results.pvalue < alpha:\n",
    "    print('Отвергаем нулевую гипотезу')\n",
    "else:\n",
    "    print('Не отвергаем нулевую гипотезу')"
   ]
  },
  {
   "cell_type": "markdown",
   "id": "b5c605e0",
   "metadata": {},
   "source": [
    "Нулевая гипотеза отвергнута, есть основания утверждать, что средняя месячная выручка от пользователей с подпиской, больше средней месячной выручки от пользователей без подписки, при установленном уровне значимости в 5 %."
   ]
  },
  {
   "cell_type": "markdown",
   "id": "66694bcb",
   "metadata": {},
   "source": [
    "##### Представьте такую ситуацию: техническая команда сервиса обновила сервера, с которыми взаимодействует мобильное приложение. Она надеется, что из-за этого количество обращений в техподдержку значимо снизилось. Некоторый файл содержит для каждого пользователя данные о количестве обращений до обновления и после него. Какой тест вам понадобился бы для проверки этой гипотезы?"
   ]
  },
  {
   "cell_type": "markdown",
   "id": "805a1bf4",
   "metadata": {},
   "source": [
    "Для сравнения средних значений до и после изменения, например, количества обращений, необходимо учитывать, являются ли выборки зависимыми (парными) или независимыми. \n",
    "\n",
    "Зависимые выборки:\n",
    "\n",
    "* Если у нас есть данные о тех же самых пользователях до и после изменения, например, количество их обращений, то эти выборки считаются зависимыми. \n",
    "* В этом случае воспользуемся методом `scipy.stats.ttest_rel()`. \n",
    "* Чтобы проверить гипотезу о том, что среднее значение до изменения больше, чем среднее значение после изменения, установим параметр `alternative=\"less\"`.\n",
    "\n",
    "Независимые выборки:\n",
    "\n",
    "* Если данные о количестве обращений до и после изменения относятся к разным группам пользователей, то эти выборки считаются независимыми.\n",
    "* В этом случае используем метод `scipy.stats.ttest_ind()`.\n",
    "\n",
    "Вывод:\n",
    "\n",
    "* Правильный выбор метода зависит от того, зависимы выборки или независимые.\n"
   ]
  },
  {
   "cell_type": "markdown",
   "id": "6ef66d63",
   "metadata": {},
   "source": [
    "#### Итоги исследования"
   ]
  },
  {
   "cell_type": "markdown",
   "id": "3b8d8886",
   "metadata": {},
   "source": [
    "##### Обзор данных\n",
    "Для исследование сервиса аренды самокатов \"GoFast\" нами были получены три датасета:\n",
    "- Пользователи: 1,565 уникальных записей (дубликаты отсутствуют)\n",
    "- Поездки: 18,068 записей (пропуски не обнаружены)\n",
    "- Подписки: 2 типа (free/ultra)\n",
    "\n",
    "Проблемы данных:\n",
    "- Требовалось преобразование столбца `date` в формат datetime\n",
    "- Удалено 30 дубликатов в пользовательских данных\n",
    "\n",
    "Вывод: Качество данных высокое, достаточное для проведения полного анализа.\n",
    "\n",
    "##### Предобработка данных\n",
    "\n",
    "Выполненные преобразования:\n",
    "1. Удаление дубликатов (30 записей)\n",
    "2. Преобразование формата даты\n",
    "3. Добавление столбца `month` для анализа временных тенденций\n",
    "\n",
    "Результат: Данные готовы для глубокого анализа.\n",
    "\n",
    "##### Исследовательский анализ данных\n",
    "\n",
    "Географическое распределение:\n",
    "- Лидеры по спросу:\n",
    "  1. Южные города (длинный сезон проката)\n",
    "  2. Екатеринбург (неожиданно высокий спрос)\n",
    "\n",
    "Демография пользователей:\n",
    "- Распределение по подпискам:\n",
    "  - 54.4% free\n",
    "  - 45.6% ultra\n",
    "- Возрастные группы:\n",
    "  - Основная аудитория: 18-25 лет (≈650 пользователей)\n",
    "\n",
    "Параметры поездок:\n",
    "| Характеристика | Free-пользователи | Ultra-пользователи |\n",
    "|----------------|-------------------|--------------------|\n",
    "| Среднее расстояние | Короткие поездки (~500м) | Длинные поездки (2500-3500м) |\n",
    "| Продолжительность | Дольше (пик 15-20 мин) | Короче |\n",
    "| Распределение | Концентрированное | Более разбросанное |\n",
    "\n",
    "Вывод: Тип подписки существенно влияет на поведенческие паттерны пользователей.\n",
    "\n",
    "##### Финансовый анализ\n",
    "- Годовая выручка: 3,878,641 руб.\n",
    "- Сравнение подписок:\n",
    "  - Ultra-пользователи приносят больше выручки в пересчете на поездку\n",
    "  - Free-пользователи совершают больше коротких поездок\n",
    "\n",
    "##### Проверка гипотез\n",
    "\n",
    "✅ Подтвержденные гипотезы:\n",
    "1. Ultra-поездки короче (p < 0.05)\n",
    "2. Среднее расстояние ultra-поездок ≤ 3130м (p < 0.05)  \n",
    "3. Ultra-пользователи приносят больше выручки (p < 0.05)\n",
    "\n",
    "Заключение: Подписка ultra делает пользователей более ценными для бизнеса.\n",
    "\n",
    "#####  Рекомендации\n",
    "\n",
    "Стратегия монетизации:\n",
    "1. Конверсия free → ultra:\n",
    "   - Ввести \"пробный ultra-месяц\"\n",
    "   - Персонализированные предложения для частых пользователей\n",
    "\n",
    "2. Оптимизация парка:\n",
    "   - Увеличить количество самокатов в Екатеринбурге\n",
    "   - Премиальные модели для ultra-клиентов\n",
    "\n",
    "3. Удержание аудитории:\n",
    "   - Программа лояльности для 18-25 лет\n",
    "   - Сезонные акции в южных городах"
   ]
  }
 ],
 "metadata": {
  "ExecuteTimeLog": [
   {
    "duration": 62,
    "start_time": "2024-09-03T10:09:51.603Z"
   },
   {
    "duration": 403,
    "start_time": "2024-09-03T10:10:01.549Z"
   },
   {
    "duration": 127,
    "start_time": "2024-09-03T10:10:01.954Z"
   },
   {
    "duration": 194,
    "start_time": "2024-09-03T10:10:02.082Z"
   },
   {
    "duration": 81,
    "start_time": "2024-09-03T10:10:02.277Z"
   },
   {
    "duration": 427,
    "start_time": "2024-09-03T10:11:20.626Z"
   },
   {
    "duration": 46,
    "start_time": "2024-09-03T10:11:21.055Z"
   },
   {
    "duration": 34,
    "start_time": "2024-09-03T10:11:21.103Z"
   },
   {
    "duration": 20,
    "start_time": "2024-09-03T10:11:21.139Z"
   },
   {
    "duration": 14,
    "start_time": "2024-09-03T10:18:59.344Z"
   },
   {
    "duration": 69,
    "start_time": "2024-09-03T10:19:15.007Z"
   },
   {
    "duration": 6,
    "start_time": "2024-09-03T10:20:57.481Z"
   },
   {
    "duration": 7,
    "start_time": "2024-09-03T10:23:45.204Z"
   },
   {
    "duration": 9,
    "start_time": "2024-09-03T10:24:06.482Z"
   },
   {
    "duration": 6,
    "start_time": "2024-09-03T10:24:30.998Z"
   },
   {
    "duration": 455,
    "start_time": "2024-09-03T10:24:41.996Z"
   },
   {
    "duration": 43,
    "start_time": "2024-09-03T10:24:42.454Z"
   },
   {
    "duration": 42,
    "start_time": "2024-09-03T10:24:42.498Z"
   },
   {
    "duration": 22,
    "start_time": "2024-09-03T10:24:42.543Z"
   },
   {
    "duration": 21,
    "start_time": "2024-09-03T10:24:42.567Z"
   },
   {
    "duration": 14,
    "start_time": "2024-09-03T10:24:42.590Z"
   },
   {
    "duration": 7,
    "start_time": "2024-09-03T10:24:42.605Z"
   },
   {
    "duration": 8,
    "start_time": "2024-09-03T10:24:42.613Z"
   },
   {
    "duration": 10,
    "start_time": "2024-09-03T10:24:42.626Z"
   },
   {
    "duration": 17,
    "start_time": "2024-09-03T10:25:32.349Z"
   },
   {
    "duration": 429,
    "start_time": "2024-09-03T10:25:50.427Z"
   },
   {
    "duration": 44,
    "start_time": "2024-09-03T10:25:50.858Z"
   },
   {
    "duration": 36,
    "start_time": "2024-09-03T10:25:50.904Z"
   },
   {
    "duration": 22,
    "start_time": "2024-09-03T10:25:50.942Z"
   },
   {
    "duration": 8,
    "start_time": "2024-09-03T10:25:50.966Z"
   },
   {
    "duration": 8,
    "start_time": "2024-09-03T10:25:50.975Z"
   },
   {
    "duration": 10,
    "start_time": "2024-09-03T10:25:50.985Z"
   },
   {
    "duration": 30,
    "start_time": "2024-09-03T10:25:50.996Z"
   },
   {
    "duration": 6,
    "start_time": "2024-09-03T10:25:51.028Z"
   },
   {
    "duration": 7,
    "start_time": "2024-09-03T10:27:21.551Z"
   },
   {
    "duration": 6,
    "start_time": "2024-09-03T10:30:00.195Z"
   },
   {
    "duration": 10,
    "start_time": "2024-09-03T10:31:02.499Z"
   },
   {
    "duration": 5,
    "start_time": "2024-09-03T10:31:25.819Z"
   },
   {
    "duration": 707,
    "start_time": "2024-09-03T10:36:52.994Z"
   },
   {
    "duration": 602,
    "start_time": "2024-09-03T10:37:20.884Z"
   },
   {
    "duration": 44,
    "start_time": "2024-09-03T10:37:21.487Z"
   },
   {
    "duration": 36,
    "start_time": "2024-09-03T10:37:21.533Z"
   },
   {
    "duration": 21,
    "start_time": "2024-09-03T10:37:21.570Z"
   },
   {
    "duration": 17,
    "start_time": "2024-09-03T10:37:21.592Z"
   },
   {
    "duration": 5,
    "start_time": "2024-09-03T10:37:21.611Z"
   },
   {
    "duration": 16,
    "start_time": "2024-09-03T10:37:21.617Z"
   },
   {
    "duration": 16,
    "start_time": "2024-09-03T10:37:21.635Z"
   },
   {
    "duration": 6,
    "start_time": "2024-09-03T10:37:21.652Z"
   },
   {
    "duration": 6,
    "start_time": "2024-09-03T10:37:21.660Z"
   },
   {
    "duration": 8,
    "start_time": "2024-09-03T10:37:21.668Z"
   },
   {
    "duration": 6,
    "start_time": "2024-09-03T10:37:21.677Z"
   },
   {
    "duration": 45,
    "start_time": "2024-09-03T10:37:21.685Z"
   },
   {
    "duration": 169,
    "start_time": "2024-09-03T10:37:21.731Z"
   },
   {
    "duration": 206,
    "start_time": "2024-09-03T10:37:46.508Z"
   },
   {
    "duration": 151,
    "start_time": "2024-09-03T10:38:45.705Z"
   },
   {
    "duration": 148,
    "start_time": "2024-09-03T10:42:55.055Z"
   },
   {
    "duration": 196,
    "start_time": "2024-09-03T10:43:15.898Z"
   },
   {
    "duration": 128,
    "start_time": "2024-09-03T10:44:56.576Z"
   },
   {
    "duration": 53,
    "start_time": "2024-09-03T11:01:01.604Z"
   },
   {
    "duration": 8,
    "start_time": "2024-09-03T11:01:26.714Z"
   },
   {
    "duration": 15,
    "start_time": "2024-09-03T11:01:36.404Z"
   },
   {
    "duration": 12,
    "start_time": "2024-09-03T11:01:57.285Z"
   },
   {
    "duration": 15,
    "start_time": "2024-09-03T11:02:09.719Z"
   },
   {
    "duration": 13,
    "start_time": "2024-09-03T11:02:43.087Z"
   },
   {
    "duration": 78,
    "start_time": "2024-09-03T11:12:47.515Z"
   },
   {
    "duration": 48,
    "start_time": "2024-09-03T11:18:14.277Z"
   },
   {
    "duration": 422,
    "start_time": "2024-09-03T11:18:29.960Z"
   },
   {
    "duration": 11,
    "start_time": "2024-09-03T11:24:41.648Z"
   },
   {
    "duration": 20,
    "start_time": "2024-09-03T11:39:38.883Z"
   },
   {
    "duration": 839,
    "start_time": "2024-09-03T11:41:45.206Z"
   },
   {
    "duration": 811,
    "start_time": "2024-09-03T11:42:06.890Z"
   },
   {
    "duration": 729,
    "start_time": "2024-09-03T11:42:34.505Z"
   },
   {
    "duration": 10,
    "start_time": "2024-09-03T11:43:10.072Z"
   },
   {
    "duration": 153,
    "start_time": "2024-09-03T11:44:16.028Z"
   },
   {
    "duration": 129,
    "start_time": "2024-09-03T11:46:01.861Z"
   },
   {
    "duration": 145,
    "start_time": "2024-09-03T11:48:38.136Z"
   },
   {
    "duration": 149,
    "start_time": "2024-09-03T11:49:04.029Z"
   },
   {
    "duration": 145,
    "start_time": "2024-09-03T11:49:17.056Z"
   },
   {
    "duration": 53,
    "start_time": "2024-09-03T12:00:22.994Z"
   },
   {
    "duration": 159,
    "start_time": "2024-09-03T12:00:25.811Z"
   },
   {
    "duration": 243,
    "start_time": "2024-09-03T12:03:48.971Z"
   },
   {
    "duration": 158,
    "start_time": "2024-09-03T12:45:51.936Z"
   },
   {
    "duration": 14,
    "start_time": "2024-09-03T12:56:05.181Z"
   },
   {
    "duration": 25,
    "start_time": "2024-09-03T12:56:32.978Z"
   },
   {
    "duration": 23,
    "start_time": "2024-09-03T13:00:27.023Z"
   },
   {
    "duration": 18,
    "start_time": "2024-09-03T13:02:03.738Z"
   },
   {
    "duration": 32,
    "start_time": "2024-09-03T13:02:08.096Z"
   },
   {
    "duration": 7,
    "start_time": "2024-09-03T13:03:24.419Z"
   },
   {
    "duration": 4,
    "start_time": "2024-09-03T13:03:46.960Z"
   },
   {
    "duration": 3,
    "start_time": "2024-09-03T13:03:52.922Z"
   },
   {
    "duration": 5,
    "start_time": "2024-09-03T13:04:01.180Z"
   },
   {
    "duration": 4,
    "start_time": "2024-09-03T13:04:08.300Z"
   },
   {
    "duration": 39,
    "start_time": "2024-09-03T13:06:33.218Z"
   },
   {
    "duration": 9,
    "start_time": "2024-09-03T13:06:57.163Z"
   },
   {
    "duration": 11,
    "start_time": "2024-09-03T13:07:13.814Z"
   },
   {
    "duration": 10,
    "start_time": "2024-09-03T13:07:32.066Z"
   },
   {
    "duration": 617,
    "start_time": "2024-09-03T13:07:36.988Z"
   },
   {
    "duration": 40,
    "start_time": "2024-09-03T13:07:37.607Z"
   },
   {
    "duration": 11,
    "start_time": "2024-09-03T13:07:37.648Z"
   },
   {
    "duration": 36,
    "start_time": "2024-09-03T13:07:37.661Z"
   },
   {
    "duration": 14,
    "start_time": "2024-09-03T13:07:37.699Z"
   },
   {
    "duration": 20,
    "start_time": "2024-09-03T13:07:37.714Z"
   },
   {
    "duration": 9,
    "start_time": "2024-09-03T13:07:37.736Z"
   },
   {
    "duration": 7,
    "start_time": "2024-09-03T13:07:37.747Z"
   },
   {
    "duration": 28,
    "start_time": "2024-09-03T13:07:37.755Z"
   },
   {
    "duration": 21,
    "start_time": "2024-09-03T13:07:37.784Z"
   },
   {
    "duration": 20,
    "start_time": "2024-09-03T13:07:37.806Z"
   },
   {
    "duration": 11,
    "start_time": "2024-09-03T13:07:37.828Z"
   },
   {
    "duration": 11,
    "start_time": "2024-09-03T13:07:37.840Z"
   },
   {
    "duration": 11,
    "start_time": "2024-09-03T13:07:37.853Z"
   },
   {
    "duration": 7,
    "start_time": "2024-09-03T13:07:37.866Z"
   },
   {
    "duration": 14,
    "start_time": "2024-09-03T13:07:37.875Z"
   },
   {
    "duration": 198,
    "start_time": "2024-09-03T13:07:37.891Z"
   },
   {
    "duration": 96,
    "start_time": "2024-09-03T13:07:38.090Z"
   },
   {
    "duration": 163,
    "start_time": "2024-09-03T13:07:38.188Z"
   },
   {
    "duration": 200,
    "start_time": "2024-09-03T13:07:38.352Z"
   },
   {
    "duration": 239,
    "start_time": "2024-09-03T13:07:38.553Z"
   },
   {
    "duration": 44,
    "start_time": "2024-09-03T13:07:38.794Z"
   },
   {
    "duration": 6,
    "start_time": "2024-09-03T13:07:38.839Z"
   },
   {
    "duration": 25,
    "start_time": "2024-09-03T13:07:38.847Z"
   },
   {
    "duration": 4,
    "start_time": "2024-09-03T13:07:38.874Z"
   },
   {
    "duration": 38,
    "start_time": "2024-09-03T13:13:16.262Z"
   },
   {
    "duration": 24,
    "start_time": "2024-09-03T13:20:27.002Z"
   },
   {
    "duration": 19,
    "start_time": "2024-09-03T13:21:26.113Z"
   },
   {
    "duration": 243,
    "start_time": "2024-09-03T13:30:28.952Z"
   },
   {
    "duration": 254,
    "start_time": "2024-09-03T13:31:45.450Z"
   },
   {
    "duration": 244,
    "start_time": "2024-09-03T13:32:11.798Z"
   },
   {
    "duration": 240,
    "start_time": "2024-09-03T13:33:54.870Z"
   },
   {
    "duration": 18,
    "start_time": "2024-09-03T13:46:38.749Z"
   },
   {
    "duration": 32,
    "start_time": "2024-09-03T13:56:56.810Z"
   },
   {
    "duration": 29,
    "start_time": "2024-09-03T13:57:14.283Z"
   },
   {
    "duration": 28,
    "start_time": "2024-09-03T14:00:02.992Z"
   },
   {
    "duration": 20,
    "start_time": "2024-09-03T14:01:36.869Z"
   },
   {
    "duration": 14,
    "start_time": "2024-09-03T14:01:44.128Z"
   },
   {
    "duration": 670,
    "start_time": "2024-09-03T14:12:51.337Z"
   },
   {
    "duration": 41,
    "start_time": "2024-09-03T14:12:52.009Z"
   },
   {
    "duration": 11,
    "start_time": "2024-09-03T14:12:52.052Z"
   },
   {
    "duration": 37,
    "start_time": "2024-09-03T14:12:52.066Z"
   },
   {
    "duration": 12,
    "start_time": "2024-09-03T14:12:52.105Z"
   },
   {
    "duration": 35,
    "start_time": "2024-09-03T14:12:52.119Z"
   },
   {
    "duration": 11,
    "start_time": "2024-09-03T14:12:52.156Z"
   },
   {
    "duration": 11,
    "start_time": "2024-09-03T14:12:52.168Z"
   },
   {
    "duration": 5,
    "start_time": "2024-09-03T14:12:52.180Z"
   },
   {
    "duration": 7,
    "start_time": "2024-09-03T14:12:52.187Z"
   },
   {
    "duration": 10,
    "start_time": "2024-09-03T14:12:52.195Z"
   },
   {
    "duration": 30,
    "start_time": "2024-09-03T14:12:52.207Z"
   },
   {
    "duration": 7,
    "start_time": "2024-09-03T14:12:52.240Z"
   },
   {
    "duration": 10,
    "start_time": "2024-09-03T14:12:52.248Z"
   },
   {
    "duration": 5,
    "start_time": "2024-09-03T14:12:52.260Z"
   },
   {
    "duration": 8,
    "start_time": "2024-09-03T14:12:52.266Z"
   },
   {
    "duration": 200,
    "start_time": "2024-09-03T14:12:52.275Z"
   },
   {
    "duration": 94,
    "start_time": "2024-09-03T14:12:52.477Z"
   },
   {
    "duration": 176,
    "start_time": "2024-09-03T14:12:52.573Z"
   },
   {
    "duration": 202,
    "start_time": "2024-09-03T14:12:52.750Z"
   },
   {
    "duration": 249,
    "start_time": "2024-09-03T14:12:52.953Z"
   },
   {
    "duration": 48,
    "start_time": "2024-09-03T14:12:53.203Z"
   },
   {
    "duration": 26,
    "start_time": "2024-09-03T14:12:53.252Z"
   },
   {
    "duration": 23,
    "start_time": "2024-09-03T14:12:53.279Z"
   },
   {
    "duration": 52,
    "start_time": "2024-09-03T14:12:53.303Z"
   },
   {
    "duration": 334,
    "start_time": "2024-09-03T14:12:53.356Z"
   },
   {
    "duration": 298,
    "start_time": "2024-09-03T14:12:53.691Z"
   },
   {
    "duration": 45,
    "start_time": "2024-09-03T14:12:53.992Z"
   },
   {
    "duration": 10,
    "start_time": "2024-09-03T14:12:54.039Z"
   },
   {
    "duration": 19,
    "start_time": "2024-09-03T14:42:30.437Z"
   },
   {
    "duration": 38,
    "start_time": "2024-09-03T15:03:21.303Z"
   },
   {
    "duration": 9,
    "start_time": "2024-09-03T15:03:25.109Z"
   },
   {
    "duration": 7,
    "start_time": "2024-09-03T15:08:46.929Z"
   },
   {
    "duration": 79,
    "start_time": "2024-09-03T15:21:02.970Z"
   },
   {
    "duration": 9,
    "start_time": "2024-09-03T15:22:31.443Z"
   },
   {
    "duration": 1085,
    "start_time": "2024-09-03T15:22:37.195Z"
   },
   {
    "duration": 39,
    "start_time": "2024-09-03T15:22:38.282Z"
   },
   {
    "duration": 10,
    "start_time": "2024-09-03T15:22:38.323Z"
   },
   {
    "duration": 55,
    "start_time": "2024-09-03T15:22:38.335Z"
   },
   {
    "duration": 11,
    "start_time": "2024-09-03T15:22:38.391Z"
   },
   {
    "duration": 20,
    "start_time": "2024-09-03T15:22:38.403Z"
   },
   {
    "duration": 11,
    "start_time": "2024-09-03T15:22:38.425Z"
   },
   {
    "duration": 12,
    "start_time": "2024-09-03T15:22:38.438Z"
   },
   {
    "duration": 18,
    "start_time": "2024-09-03T15:22:38.452Z"
   },
   {
    "duration": 23,
    "start_time": "2024-09-03T15:22:38.473Z"
   },
   {
    "duration": 25,
    "start_time": "2024-09-03T15:22:38.497Z"
   },
   {
    "duration": 22,
    "start_time": "2024-09-03T15:22:38.523Z"
   },
   {
    "duration": 11,
    "start_time": "2024-09-03T15:22:38.546Z"
   },
   {
    "duration": 8,
    "start_time": "2024-09-03T15:22:38.558Z"
   },
   {
    "duration": 7,
    "start_time": "2024-09-03T15:22:38.568Z"
   },
   {
    "duration": 18,
    "start_time": "2024-09-03T15:22:38.577Z"
   },
   {
    "duration": 167,
    "start_time": "2024-09-03T15:22:38.596Z"
   },
   {
    "duration": 89,
    "start_time": "2024-09-03T15:22:38.765Z"
   },
   {
    "duration": 164,
    "start_time": "2024-09-03T15:22:38.855Z"
   },
   {
    "duration": 195,
    "start_time": "2024-09-03T15:22:39.021Z"
   },
   {
    "duration": 196,
    "start_time": "2024-09-03T15:22:39.218Z"
   },
   {
    "duration": 38,
    "start_time": "2024-09-03T15:22:39.416Z"
   },
   {
    "duration": 25,
    "start_time": "2024-09-03T15:22:39.455Z"
   },
   {
    "duration": 43,
    "start_time": "2024-09-03T15:22:39.482Z"
   },
   {
    "duration": 20,
    "start_time": "2024-09-03T15:22:39.527Z"
   },
   {
    "duration": 363,
    "start_time": "2024-09-03T15:22:39.549Z"
   },
   {
    "duration": 324,
    "start_time": "2024-09-03T15:22:39.913Z"
   },
   {
    "duration": 136,
    "start_time": "2024-09-03T15:22:40.241Z"
   },
   {
    "duration": 11,
    "start_time": "2024-09-03T15:22:40.379Z"
   },
   {
    "duration": 12,
    "start_time": "2024-09-03T15:22:40.391Z"
   },
   {
    "duration": 23,
    "start_time": "2024-09-03T15:22:40.405Z"
   },
   {
    "duration": 6,
    "start_time": "2024-09-03T15:36:37.651Z"
   },
   {
    "duration": 17,
    "start_time": "2024-09-03T15:40:07.817Z"
   },
   {
    "duration": 11,
    "start_time": "2024-09-03T15:40:43.070Z"
   },
   {
    "duration": 16,
    "start_time": "2024-09-03T15:40:54.146Z"
   },
   {
    "duration": 106,
    "start_time": "2024-09-03T15:46:21.689Z"
   },
   {
    "duration": 19,
    "start_time": "2024-09-03T15:46:41.755Z"
   },
   {
    "duration": 17,
    "start_time": "2024-09-03T15:46:54.455Z"
   },
   {
    "duration": 17,
    "start_time": "2024-09-03T15:46:58.632Z"
   },
   {
    "duration": 23,
    "start_time": "2024-09-03T15:48:39.069Z"
   },
   {
    "duration": 10,
    "start_time": "2024-09-03T15:49:11.792Z"
   },
   {
    "duration": 74,
    "start_time": "2024-09-03T15:51:01.412Z"
   },
   {
    "duration": 47,
    "start_time": "2024-09-03T15:51:16.714Z"
   },
   {
    "duration": 10,
    "start_time": "2024-09-03T15:52:15.062Z"
   },
   {
    "duration": 1044,
    "start_time": "2024-09-03T16:57:09.525Z"
   },
   {
    "duration": 42,
    "start_time": "2024-09-03T16:57:10.571Z"
   },
   {
    "duration": 11,
    "start_time": "2024-09-03T16:57:10.615Z"
   },
   {
    "duration": 28,
    "start_time": "2024-09-03T16:57:10.628Z"
   },
   {
    "duration": 45,
    "start_time": "2024-09-03T16:57:10.657Z"
   },
   {
    "duration": 0,
    "start_time": "2024-09-03T16:57:10.704Z"
   },
   {
    "duration": 0,
    "start_time": "2024-09-03T16:57:10.705Z"
   },
   {
    "duration": 0,
    "start_time": "2024-09-03T16:57:10.706Z"
   },
   {
    "duration": 0,
    "start_time": "2024-09-03T16:57:10.707Z"
   },
   {
    "duration": 0,
    "start_time": "2024-09-03T16:57:10.708Z"
   },
   {
    "duration": 0,
    "start_time": "2024-09-03T16:57:10.709Z"
   },
   {
    "duration": 0,
    "start_time": "2024-09-03T16:57:10.710Z"
   },
   {
    "duration": 0,
    "start_time": "2024-09-03T16:57:10.711Z"
   },
   {
    "duration": 0,
    "start_time": "2024-09-03T16:57:10.712Z"
   },
   {
    "duration": 0,
    "start_time": "2024-09-03T16:57:10.713Z"
   },
   {
    "duration": 0,
    "start_time": "2024-09-03T16:57:10.714Z"
   },
   {
    "duration": 0,
    "start_time": "2024-09-03T16:57:10.714Z"
   },
   {
    "duration": 0,
    "start_time": "2024-09-03T16:57:10.715Z"
   },
   {
    "duration": 0,
    "start_time": "2024-09-03T16:57:10.716Z"
   },
   {
    "duration": 0,
    "start_time": "2024-09-03T16:57:10.717Z"
   },
   {
    "duration": 0,
    "start_time": "2024-09-03T16:57:10.718Z"
   },
   {
    "duration": 0,
    "start_time": "2024-09-03T16:57:10.719Z"
   },
   {
    "duration": 0,
    "start_time": "2024-09-03T16:57:10.720Z"
   },
   {
    "duration": 0,
    "start_time": "2024-09-03T16:57:10.721Z"
   },
   {
    "duration": 0,
    "start_time": "2024-09-03T16:57:10.722Z"
   },
   {
    "duration": 0,
    "start_time": "2024-09-03T16:57:10.723Z"
   },
   {
    "duration": 0,
    "start_time": "2024-09-03T16:57:10.724Z"
   },
   {
    "duration": 0,
    "start_time": "2024-09-03T16:57:10.727Z"
   },
   {
    "duration": 0,
    "start_time": "2024-09-03T16:57:10.728Z"
   },
   {
    "duration": 0,
    "start_time": "2024-09-03T16:57:10.734Z"
   },
   {
    "duration": 0,
    "start_time": "2024-09-03T16:57:10.735Z"
   },
   {
    "duration": 0,
    "start_time": "2024-09-03T16:57:10.737Z"
   },
   {
    "duration": 0,
    "start_time": "2024-09-03T16:57:10.738Z"
   },
   {
    "duration": 0,
    "start_time": "2024-09-03T16:57:10.738Z"
   },
   {
    "duration": 0,
    "start_time": "2024-09-03T16:57:10.739Z"
   },
   {
    "duration": 0,
    "start_time": "2024-09-03T16:57:10.740Z"
   },
   {
    "duration": 0,
    "start_time": "2024-09-03T16:57:10.741Z"
   },
   {
    "duration": 1051,
    "start_time": "2024-09-03T17:04:42.821Z"
   },
   {
    "duration": 30,
    "start_time": "2024-09-03T17:04:43.876Z"
   },
   {
    "duration": 13,
    "start_time": "2024-09-03T17:04:43.907Z"
   },
   {
    "duration": 23,
    "start_time": "2024-09-03T17:04:43.923Z"
   },
   {
    "duration": 29,
    "start_time": "2024-09-03T17:04:43.948Z"
   },
   {
    "duration": 80,
    "start_time": "2024-09-03T17:04:43.979Z"
   },
   {
    "duration": 23,
    "start_time": "2024-09-03T17:04:44.061Z"
   },
   {
    "duration": 31,
    "start_time": "2024-09-03T17:04:44.086Z"
   },
   {
    "duration": 11,
    "start_time": "2024-09-03T17:04:44.118Z"
   },
   {
    "duration": 10,
    "start_time": "2024-09-03T17:04:44.142Z"
   },
   {
    "duration": 8,
    "start_time": "2024-09-03T17:04:44.153Z"
   },
   {
    "duration": 5,
    "start_time": "2024-09-03T17:04:44.162Z"
   },
   {
    "duration": 6,
    "start_time": "2024-09-03T17:04:44.168Z"
   },
   {
    "duration": 5,
    "start_time": "2024-09-03T17:04:44.176Z"
   },
   {
    "duration": 12,
    "start_time": "2024-09-03T17:04:44.182Z"
   },
   {
    "duration": 13,
    "start_time": "2024-09-03T17:04:44.195Z"
   },
   {
    "duration": 13,
    "start_time": "2024-09-03T17:04:44.226Z"
   },
   {
    "duration": 6,
    "start_time": "2024-09-03T17:04:44.241Z"
   },
   {
    "duration": 16,
    "start_time": "2024-09-03T17:04:44.248Z"
   },
   {
    "duration": 177,
    "start_time": "2024-09-03T17:04:44.266Z"
   },
   {
    "duration": 73,
    "start_time": "2024-09-03T17:04:44.444Z"
   },
   {
    "duration": 154,
    "start_time": "2024-09-03T17:04:44.519Z"
   },
   {
    "duration": 197,
    "start_time": "2024-09-03T17:04:44.674Z"
   },
   {
    "duration": 174,
    "start_time": "2024-09-03T17:04:44.872Z"
   },
   {
    "duration": 30,
    "start_time": "2024-09-03T17:04:45.048Z"
   },
   {
    "duration": 23,
    "start_time": "2024-09-03T17:04:45.079Z"
   },
   {
    "duration": 52,
    "start_time": "2024-09-03T17:04:45.104Z"
   },
   {
    "duration": 42,
    "start_time": "2024-09-03T17:04:45.159Z"
   },
   {
    "duration": 247,
    "start_time": "2024-09-03T17:04:45.203Z"
   },
   {
    "duration": 262,
    "start_time": "2024-09-03T17:04:45.452Z"
   },
   {
    "duration": 125,
    "start_time": "2024-09-03T17:04:45.716Z"
   },
   {
    "duration": 8,
    "start_time": "2024-09-03T17:04:45.844Z"
   },
   {
    "duration": 27,
    "start_time": "2024-09-03T17:04:45.854Z"
   },
   {
    "duration": 13,
    "start_time": "2024-09-03T17:04:45.883Z"
   },
   {
    "duration": 7,
    "start_time": "2024-09-03T17:04:45.897Z"
   },
   {
    "duration": 16,
    "start_time": "2024-09-03T17:04:45.905Z"
   },
   {
    "duration": 19,
    "start_time": "2024-09-03T17:04:45.923Z"
   },
   {
    "duration": 46,
    "start_time": "2024-09-04T03:34:47.465Z"
   },
   {
    "duration": 1261,
    "start_time": "2024-09-04T03:59:51.868Z"
   },
   {
    "duration": 82,
    "start_time": "2024-09-04T03:59:53.130Z"
   },
   {
    "duration": 13,
    "start_time": "2024-09-04T03:59:53.214Z"
   },
   {
    "duration": 19,
    "start_time": "2024-09-04T03:59:53.228Z"
   },
   {
    "duration": 174,
    "start_time": "2024-09-04T03:59:53.249Z"
   },
   {
    "duration": 7,
    "start_time": "2024-09-04T03:59:53.425Z"
   },
   {
    "duration": 18,
    "start_time": "2024-09-04T03:59:53.434Z"
   },
   {
    "duration": 69,
    "start_time": "2024-09-04T03:59:53.454Z"
   },
   {
    "duration": 7,
    "start_time": "2024-09-04T03:59:53.524Z"
   },
   {
    "duration": 18,
    "start_time": "2024-09-04T03:59:53.534Z"
   },
   {
    "duration": 35,
    "start_time": "2024-09-04T03:59:53.553Z"
   },
   {
    "duration": 26,
    "start_time": "2024-09-04T03:59:53.589Z"
   },
   {
    "duration": 18,
    "start_time": "2024-09-04T03:59:53.617Z"
   },
   {
    "duration": 4,
    "start_time": "2024-09-04T03:59:53.637Z"
   },
   {
    "duration": 10,
    "start_time": "2024-09-04T03:59:53.642Z"
   },
   {
    "duration": 6,
    "start_time": "2024-09-04T03:59:53.654Z"
   },
   {
    "duration": 155,
    "start_time": "2024-09-04T03:59:53.661Z"
   },
   {
    "duration": 86,
    "start_time": "2024-09-04T03:59:53.818Z"
   },
   {
    "duration": 149,
    "start_time": "2024-09-04T03:59:53.906Z"
   },
   {
    "duration": 177,
    "start_time": "2024-09-04T03:59:54.057Z"
   },
   {
    "duration": 183,
    "start_time": "2024-09-04T03:59:54.236Z"
   },
   {
    "duration": 43,
    "start_time": "2024-09-04T03:59:54.421Z"
   },
   {
    "duration": 24,
    "start_time": "2024-09-04T03:59:54.465Z"
   },
   {
    "duration": 16,
    "start_time": "2024-09-04T03:59:54.491Z"
   },
   {
    "duration": 14,
    "start_time": "2024-09-04T03:59:54.509Z"
   },
   {
    "duration": 278,
    "start_time": "2024-09-04T03:59:54.525Z"
   },
   {
    "duration": 273,
    "start_time": "2024-09-04T03:59:54.805Z"
   },
   {
    "duration": 119,
    "start_time": "2024-09-04T03:59:55.082Z"
   },
   {
    "duration": 10,
    "start_time": "2024-09-04T03:59:55.202Z"
   },
   {
    "duration": 9,
    "start_time": "2024-09-04T03:59:55.214Z"
   },
   {
    "duration": 28,
    "start_time": "2024-09-04T03:59:55.225Z"
   },
   {
    "duration": 5,
    "start_time": "2024-09-04T03:59:55.255Z"
   },
   {
    "duration": 30,
    "start_time": "2024-09-04T03:59:55.262Z"
   },
   {
    "duration": 1180,
    "start_time": "2024-09-04T04:15:22.332Z"
   },
   {
    "duration": 29,
    "start_time": "2024-09-04T04:15:23.514Z"
   },
   {
    "duration": 14,
    "start_time": "2024-09-04T04:15:23.545Z"
   },
   {
    "duration": 11,
    "start_time": "2024-09-04T04:15:23.561Z"
   },
   {
    "duration": 49,
    "start_time": "2024-09-04T04:15:23.575Z"
   },
   {
    "duration": 9,
    "start_time": "2024-09-04T04:15:23.625Z"
   },
   {
    "duration": 12,
    "start_time": "2024-09-04T04:15:23.636Z"
   },
   {
    "duration": 14,
    "start_time": "2024-09-04T04:15:23.650Z"
   },
   {
    "duration": 6,
    "start_time": "2024-09-04T04:15:23.666Z"
   },
   {
    "duration": 10,
    "start_time": "2024-09-04T04:15:23.673Z"
   },
   {
    "duration": 7,
    "start_time": "2024-09-04T04:15:23.684Z"
   },
   {
    "duration": 4,
    "start_time": "2024-09-04T04:15:23.693Z"
   },
   {
    "duration": 5,
    "start_time": "2024-09-04T04:15:23.698Z"
   },
   {
    "duration": 5,
    "start_time": "2024-09-04T04:15:23.706Z"
   },
   {
    "duration": 14,
    "start_time": "2024-09-04T04:15:23.713Z"
   },
   {
    "duration": 4,
    "start_time": "2024-09-04T04:15:23.729Z"
   },
   {
    "duration": 166,
    "start_time": "2024-09-04T04:15:23.734Z"
   },
   {
    "duration": 79,
    "start_time": "2024-09-04T04:15:23.902Z"
   },
   {
    "duration": 151,
    "start_time": "2024-09-04T04:15:23.983Z"
   },
   {
    "duration": 185,
    "start_time": "2024-09-04T04:15:24.136Z"
   },
   {
    "duration": 173,
    "start_time": "2024-09-04T04:15:24.323Z"
   },
   {
    "duration": 31,
    "start_time": "2024-09-04T04:15:24.498Z"
   },
   {
    "duration": 34,
    "start_time": "2024-09-04T04:15:24.530Z"
   },
   {
    "duration": 16,
    "start_time": "2024-09-04T04:15:24.566Z"
   },
   {
    "duration": 13,
    "start_time": "2024-09-04T04:15:24.583Z"
   },
   {
    "duration": 275,
    "start_time": "2024-09-04T04:15:24.598Z"
   },
   {
    "duration": 274,
    "start_time": "2024-09-04T04:15:24.874Z"
   },
   {
    "duration": 129,
    "start_time": "2024-09-04T04:15:25.150Z"
   },
   {
    "duration": 9,
    "start_time": "2024-09-04T04:15:25.281Z"
   },
   {
    "duration": 7,
    "start_time": "2024-09-04T04:15:25.292Z"
   },
   {
    "duration": 4,
    "start_time": "2024-09-04T04:15:25.301Z"
   },
   {
    "duration": 5,
    "start_time": "2024-09-04T04:15:25.306Z"
   },
   {
    "duration": 12,
    "start_time": "2024-09-04T04:15:25.313Z"
   },
   {
    "duration": 1497,
    "start_time": "2024-09-04T10:15:59.647Z"
   },
   {
    "duration": 118,
    "start_time": "2024-09-04T10:16:01.146Z"
   },
   {
    "duration": 13,
    "start_time": "2024-09-04T10:16:01.266Z"
   },
   {
    "duration": 16,
    "start_time": "2024-09-04T10:16:01.281Z"
   },
   {
    "duration": 180,
    "start_time": "2024-09-04T10:16:01.298Z"
   },
   {
    "duration": 9,
    "start_time": "2024-09-04T10:16:01.479Z"
   },
   {
    "duration": 30,
    "start_time": "2024-09-04T10:16:01.489Z"
   },
   {
    "duration": 73,
    "start_time": "2024-09-04T10:16:01.520Z"
   },
   {
    "duration": 6,
    "start_time": "2024-09-04T10:16:01.595Z"
   },
   {
    "duration": 38,
    "start_time": "2024-09-04T10:16:01.603Z"
   },
   {
    "duration": 9,
    "start_time": "2024-09-04T10:16:01.643Z"
   },
   {
    "duration": 8,
    "start_time": "2024-09-04T10:16:01.654Z"
   },
   {
    "duration": 6,
    "start_time": "2024-09-04T10:16:01.665Z"
   },
   {
    "duration": 5,
    "start_time": "2024-09-04T10:16:01.673Z"
   },
   {
    "duration": 8,
    "start_time": "2024-09-04T10:16:01.679Z"
   },
   {
    "duration": 4,
    "start_time": "2024-09-04T10:16:01.688Z"
   },
   {
    "duration": 196,
    "start_time": "2024-09-04T10:16:01.693Z"
   },
   {
    "duration": 94,
    "start_time": "2024-09-04T10:16:01.891Z"
   },
   {
    "duration": 161,
    "start_time": "2024-09-04T10:16:01.987Z"
   },
   {
    "duration": 228,
    "start_time": "2024-09-04T10:16:02.151Z"
   },
   {
    "duration": 194,
    "start_time": "2024-09-04T10:16:02.381Z"
   },
   {
    "duration": 32,
    "start_time": "2024-09-04T10:16:02.577Z"
   },
   {
    "duration": 39,
    "start_time": "2024-09-04T10:16:02.610Z"
   },
   {
    "duration": 23,
    "start_time": "2024-09-04T10:16:02.651Z"
   },
   {
    "duration": 15,
    "start_time": "2024-09-04T10:16:02.676Z"
   },
   {
    "duration": 303,
    "start_time": "2024-09-04T10:16:02.692Z"
   },
   {
    "duration": 311,
    "start_time": "2024-09-04T10:16:02.997Z"
   },
   {
    "duration": 132,
    "start_time": "2024-09-04T10:16:03.309Z"
   },
   {
    "duration": 14,
    "start_time": "2024-09-04T10:16:03.443Z"
   },
   {
    "duration": 10,
    "start_time": "2024-09-04T10:16:03.459Z"
   },
   {
    "duration": 9,
    "start_time": "2024-09-04T10:16:03.470Z"
   },
   {
    "duration": 4,
    "start_time": "2024-09-04T10:16:03.481Z"
   },
   {
    "duration": 10,
    "start_time": "2024-09-04T10:16:03.487Z"
   },
   {
    "duration": 16,
    "start_time": "2024-09-04T10:18:08.376Z"
   },
   {
    "duration": 3,
    "start_time": "2025-06-07T11:13:18.148Z"
   },
   {
    "duration": 46,
    "start_time": "2025-06-07T11:19:53.949Z"
   },
   {
    "duration": 1099,
    "start_time": "2025-06-07T11:21:11.089Z"
   },
   {
    "duration": 128,
    "start_time": "2025-06-07T11:21:12.191Z"
   },
   {
    "duration": 0,
    "start_time": "2025-06-07T11:21:12.322Z"
   },
   {
    "duration": 0,
    "start_time": "2025-06-07T11:21:12.322Z"
   },
   {
    "duration": 0,
    "start_time": "2025-06-07T11:21:12.324Z"
   },
   {
    "duration": 0,
    "start_time": "2025-06-07T11:21:12.325Z"
   },
   {
    "duration": 0,
    "start_time": "2025-06-07T11:21:12.326Z"
   },
   {
    "duration": 0,
    "start_time": "2025-06-07T11:21:12.339Z"
   },
   {
    "duration": 0,
    "start_time": "2025-06-07T11:21:12.340Z"
   },
   {
    "duration": 0,
    "start_time": "2025-06-07T11:21:12.341Z"
   },
   {
    "duration": 0,
    "start_time": "2025-06-07T11:21:12.343Z"
   },
   {
    "duration": 0,
    "start_time": "2025-06-07T11:21:12.344Z"
   },
   {
    "duration": 0,
    "start_time": "2025-06-07T11:21:12.345Z"
   },
   {
    "duration": 0,
    "start_time": "2025-06-07T11:21:12.346Z"
   },
   {
    "duration": 0,
    "start_time": "2025-06-07T11:21:12.347Z"
   },
   {
    "duration": 0,
    "start_time": "2025-06-07T11:21:12.348Z"
   },
   {
    "duration": 0,
    "start_time": "2025-06-07T11:21:12.349Z"
   },
   {
    "duration": 0,
    "start_time": "2025-06-07T11:21:12.350Z"
   },
   {
    "duration": 0,
    "start_time": "2025-06-07T11:21:12.351Z"
   },
   {
    "duration": 0,
    "start_time": "2025-06-07T11:21:12.352Z"
   },
   {
    "duration": 0,
    "start_time": "2025-06-07T11:21:12.353Z"
   },
   {
    "duration": 0,
    "start_time": "2025-06-07T11:21:12.354Z"
   },
   {
    "duration": 0,
    "start_time": "2025-06-07T11:21:12.355Z"
   },
   {
    "duration": 0,
    "start_time": "2025-06-07T11:21:12.356Z"
   },
   {
    "duration": 0,
    "start_time": "2025-06-07T11:21:12.357Z"
   },
   {
    "duration": 0,
    "start_time": "2025-06-07T11:21:12.358Z"
   },
   {
    "duration": 0,
    "start_time": "2025-06-07T11:21:12.359Z"
   },
   {
    "duration": 0,
    "start_time": "2025-06-07T11:21:12.360Z"
   },
   {
    "duration": 0,
    "start_time": "2025-06-07T11:21:12.361Z"
   },
   {
    "duration": 0,
    "start_time": "2025-06-07T11:21:12.362Z"
   },
   {
    "duration": 0,
    "start_time": "2025-06-07T11:21:12.363Z"
   },
   {
    "duration": 0,
    "start_time": "2025-06-07T11:21:12.364Z"
   },
   {
    "duration": 1214,
    "start_time": "2025-06-07T11:23:02.209Z"
   },
   {
    "duration": 18,
    "start_time": "2025-06-07T11:23:03.425Z"
   },
   {
    "duration": 70,
    "start_time": "2025-06-07T11:23:03.447Z"
   },
   {
    "duration": 41,
    "start_time": "2025-06-07T11:23:03.519Z"
   },
   {
    "duration": 85,
    "start_time": "2025-06-07T11:23:03.561Z"
   },
   {
    "duration": 9,
    "start_time": "2025-06-07T11:23:03.648Z"
   },
   {
    "duration": 43,
    "start_time": "2025-06-07T11:23:03.659Z"
   },
   {
    "duration": 54,
    "start_time": "2025-06-07T11:23:03.703Z"
   },
   {
    "duration": 32,
    "start_time": "2025-06-07T11:23:03.759Z"
   },
   {
    "duration": 51,
    "start_time": "2025-06-07T11:23:03.793Z"
   },
   {
    "duration": 116,
    "start_time": "2025-06-07T11:23:03.847Z"
   },
   {
    "duration": 67,
    "start_time": "2025-06-07T11:23:03.964Z"
   },
   {
    "duration": 40,
    "start_time": "2025-06-07T11:23:04.034Z"
   },
   {
    "duration": 64,
    "start_time": "2025-06-07T11:23:04.076Z"
   },
   {
    "duration": 39,
    "start_time": "2025-06-07T11:23:04.142Z"
   },
   {
    "duration": 12,
    "start_time": "2025-06-07T11:23:04.182Z"
   },
   {
    "duration": 185,
    "start_time": "2025-06-07T11:23:04.196Z"
   },
   {
    "duration": 86,
    "start_time": "2025-06-07T11:23:04.383Z"
   },
   {
    "duration": 161,
    "start_time": "2025-06-07T11:23:04.472Z"
   },
   {
    "duration": 189,
    "start_time": "2025-06-07T11:23:04.634Z"
   },
   {
    "duration": 236,
    "start_time": "2025-06-07T11:23:04.825Z"
   },
   {
    "duration": 192,
    "start_time": "2025-06-07T11:23:05.062Z"
   },
   {
    "duration": 111,
    "start_time": "2025-06-07T11:23:05.256Z"
   },
   {
    "duration": 33,
    "start_time": "2025-06-07T11:23:05.369Z"
   },
   {
    "duration": 99,
    "start_time": "2025-06-07T11:23:05.404Z"
   },
   {
    "duration": 17,
    "start_time": "2025-06-07T11:23:05.504Z"
   },
   {
    "duration": 22,
    "start_time": "2025-06-07T11:23:05.523Z"
   },
   {
    "duration": 277,
    "start_time": "2025-06-07T11:23:05.547Z"
   },
   {
    "duration": 372,
    "start_time": "2025-06-07T11:23:05.826Z"
   },
   {
    "duration": 50,
    "start_time": "2025-06-07T11:23:06.200Z"
   },
   {
    "duration": 80,
    "start_time": "2025-06-07T11:23:06.252Z"
   },
   {
    "duration": 47,
    "start_time": "2025-06-07T11:23:06.334Z"
   },
   {
    "duration": 45,
    "start_time": "2025-06-07T11:23:06.383Z"
   },
   {
    "duration": 33,
    "start_time": "2025-06-07T11:23:06.431Z"
   },
   {
    "duration": 28,
    "start_time": "2025-06-07T11:23:06.466Z"
   },
   {
    "duration": 1053,
    "start_time": "2025-06-07T12:15:24.586Z"
   },
   {
    "duration": 29,
    "start_time": "2025-06-07T12:15:25.641Z"
   },
   {
    "duration": 13,
    "start_time": "2025-06-07T12:15:25.671Z"
   },
   {
    "duration": 14,
    "start_time": "2025-06-07T12:15:25.685Z"
   },
   {
    "duration": 43,
    "start_time": "2025-06-07T12:15:25.702Z"
   },
   {
    "duration": 9,
    "start_time": "2025-06-07T12:15:25.746Z"
   },
   {
    "duration": 23,
    "start_time": "2025-06-07T12:15:25.756Z"
   },
   {
    "duration": 15,
    "start_time": "2025-06-07T12:15:25.780Z"
   },
   {
    "duration": 8,
    "start_time": "2025-06-07T12:15:25.796Z"
   },
   {
    "duration": 18,
    "start_time": "2025-06-07T12:15:25.805Z"
   },
   {
    "duration": 17,
    "start_time": "2025-06-07T12:15:25.825Z"
   },
   {
    "duration": 5,
    "start_time": "2025-06-07T12:15:25.843Z"
   },
   {
    "duration": 22,
    "start_time": "2025-06-07T12:15:25.849Z"
   },
   {
    "duration": 5,
    "start_time": "2025-06-07T12:15:25.873Z"
   },
   {
    "duration": 21,
    "start_time": "2025-06-07T12:15:25.879Z"
   },
   {
    "duration": 5,
    "start_time": "2025-06-07T12:15:25.902Z"
   },
   {
    "duration": 160,
    "start_time": "2025-06-07T12:15:25.908Z"
   },
   {
    "duration": 84,
    "start_time": "2025-06-07T12:15:26.070Z"
   },
   {
    "duration": 158,
    "start_time": "2025-06-07T12:15:26.156Z"
   },
   {
    "duration": 184,
    "start_time": "2025-06-07T12:15:26.316Z"
   },
   {
    "duration": 240,
    "start_time": "2025-06-07T12:15:26.501Z"
   },
   {
    "duration": 189,
    "start_time": "2025-06-07T12:15:26.743Z"
   },
   {
    "duration": 110,
    "start_time": "2025-06-07T12:15:26.934Z"
   },
   {
    "duration": 34,
    "start_time": "2025-06-07T12:15:27.047Z"
   },
   {
    "duration": 27,
    "start_time": "2025-06-07T12:15:27.082Z"
   },
   {
    "duration": 42,
    "start_time": "2025-06-07T12:15:27.111Z"
   },
   {
    "duration": 17,
    "start_time": "2025-06-07T12:15:27.155Z"
   },
   {
    "duration": 282,
    "start_time": "2025-06-07T12:15:27.173Z"
   },
   {
    "duration": 410,
    "start_time": "2025-06-07T12:15:27.457Z"
   },
   {
    "duration": 45,
    "start_time": "2025-06-07T12:15:27.869Z"
   },
   {
    "duration": 26,
    "start_time": "2025-06-07T12:15:27.915Z"
   },
   {
    "duration": 9,
    "start_time": "2025-06-07T12:15:27.942Z"
   },
   {
    "duration": 22,
    "start_time": "2025-06-07T12:15:27.953Z"
   },
   {
    "duration": 25,
    "start_time": "2025-06-07T12:15:27.977Z"
   },
   {
    "duration": 13,
    "start_time": "2025-06-07T12:15:28.003Z"
   },
   {
    "duration": 52,
    "start_time": "2025-06-07T12:21:31.868Z"
   },
   {
    "duration": 52,
    "start_time": "2025-06-07T12:22:05.580Z"
   },
   {
    "duration": 1191,
    "start_time": "2025-06-07T12:22:05.634Z"
   },
   {
    "duration": 18,
    "start_time": "2025-06-07T12:22:06.827Z"
   },
   {
    "duration": 104,
    "start_time": "2025-06-07T12:22:06.847Z"
   },
   {
    "duration": 46,
    "start_time": "2025-06-07T12:22:06.953Z"
   },
   {
    "duration": 50,
    "start_time": "2025-06-07T12:22:07.001Z"
   },
   {
    "duration": 9,
    "start_time": "2025-06-07T12:22:07.052Z"
   },
   {
    "duration": 27,
    "start_time": "2025-06-07T12:22:07.063Z"
   },
   {
    "duration": 31,
    "start_time": "2025-06-07T12:22:07.091Z"
   },
   {
    "duration": 7,
    "start_time": "2025-06-07T12:22:07.123Z"
   },
   {
    "duration": 65,
    "start_time": "2025-06-07T12:22:07.132Z"
   },
   {
    "duration": 58,
    "start_time": "2025-06-07T12:22:07.199Z"
   },
   {
    "duration": 51,
    "start_time": "2025-06-07T12:22:07.259Z"
   },
   {
    "duration": 38,
    "start_time": "2025-06-07T12:22:07.312Z"
   },
   {
    "duration": 22,
    "start_time": "2025-06-07T12:22:07.352Z"
   },
   {
    "duration": 52,
    "start_time": "2025-06-07T12:22:07.376Z"
   },
   {
    "duration": 195,
    "start_time": "2025-06-07T12:22:07.429Z"
   },
   {
    "duration": 171,
    "start_time": "2025-06-07T12:22:07.626Z"
   },
   {
    "duration": 89,
    "start_time": "2025-06-07T12:22:07.798Z"
   },
   {
    "duration": 169,
    "start_time": "2025-06-07T12:22:07.889Z"
   },
   {
    "duration": 382,
    "start_time": "2025-06-07T12:22:08.060Z"
   },
   {
    "duration": 336,
    "start_time": "2025-06-07T12:22:08.444Z"
   },
   {
    "duration": 391,
    "start_time": "2025-06-07T12:22:08.782Z"
   },
   {
    "duration": 265,
    "start_time": "2025-06-07T12:22:09.174Z"
   },
   {
    "duration": 33,
    "start_time": "2025-06-07T12:22:09.441Z"
   },
   {
    "duration": 169,
    "start_time": "2025-06-07T12:22:09.476Z"
   },
   {
    "duration": 18,
    "start_time": "2025-06-07T12:22:09.647Z"
   },
   {
    "duration": 15,
    "start_time": "2025-06-07T12:22:09.667Z"
   },
   {
    "duration": 283,
    "start_time": "2025-06-07T12:22:09.684Z"
   },
   {
    "duration": 373,
    "start_time": "2025-06-07T12:22:09.968Z"
   },
   {
    "duration": 41,
    "start_time": "2025-06-07T12:22:10.343Z"
   },
   {
    "duration": 11,
    "start_time": "2025-06-07T12:22:10.385Z"
   },
   {
    "duration": 12,
    "start_time": "2025-06-07T12:22:10.397Z"
   },
   {
    "duration": 31,
    "start_time": "2025-06-07T12:22:10.411Z"
   },
   {
    "duration": 22,
    "start_time": "2025-06-07T12:22:10.444Z"
   },
   {
    "duration": 11,
    "start_time": "2025-06-07T12:22:10.467Z"
   },
   {
    "duration": 45,
    "start_time": "2025-06-07T12:22:35.693Z"
   },
   {
    "duration": 1192,
    "start_time": "2025-06-07T12:22:35.739Z"
   },
   {
    "duration": 24,
    "start_time": "2025-06-07T12:22:36.932Z"
   },
   {
    "duration": 18,
    "start_time": "2025-06-07T12:22:36.958Z"
   },
   {
    "duration": 17,
    "start_time": "2025-06-07T12:22:36.979Z"
   },
   {
    "duration": 29,
    "start_time": "2025-06-07T12:22:36.998Z"
   },
   {
    "duration": 127,
    "start_time": "2025-06-07T12:22:37.029Z"
   },
   {
    "duration": 21,
    "start_time": "2025-06-07T12:22:37.158Z"
   },
   {
    "duration": 20,
    "start_time": "2025-06-07T12:22:37.181Z"
   },
   {
    "duration": 10,
    "start_time": "2025-06-07T12:22:37.203Z"
   },
   {
    "duration": 33,
    "start_time": "2025-06-07T12:22:37.215Z"
   },
   {
    "duration": 14,
    "start_time": "2025-06-07T12:22:37.251Z"
   },
   {
    "duration": 13,
    "start_time": "2025-06-07T12:22:37.267Z"
   },
   {
    "duration": 16,
    "start_time": "2025-06-07T12:22:37.283Z"
   },
   {
    "duration": 36,
    "start_time": "2025-06-07T12:22:37.301Z"
   },
   {
    "duration": 9,
    "start_time": "2025-06-07T12:22:37.339Z"
   },
   {
    "duration": 9,
    "start_time": "2025-06-07T12:22:37.350Z"
   },
   {
    "duration": 181,
    "start_time": "2025-06-07T12:22:37.361Z"
   },
   {
    "duration": 116,
    "start_time": "2025-06-07T12:22:37.544Z"
   },
   {
    "duration": 162,
    "start_time": "2025-06-07T12:22:37.661Z"
   },
   {
    "duration": 189,
    "start_time": "2025-06-07T12:22:37.824Z"
   },
   {
    "duration": 226,
    "start_time": "2025-06-07T12:22:38.015Z"
   },
   {
    "duration": 184,
    "start_time": "2025-06-07T12:22:38.243Z"
   },
   {
    "duration": 116,
    "start_time": "2025-06-07T12:22:38.429Z"
   },
   {
    "duration": 32,
    "start_time": "2025-06-07T12:22:38.547Z"
   },
   {
    "duration": 26,
    "start_time": "2025-06-07T12:22:38.581Z"
   },
   {
    "duration": 47,
    "start_time": "2025-06-07T12:22:38.609Z"
   },
   {
    "duration": 17,
    "start_time": "2025-06-07T12:22:38.659Z"
   },
   {
    "duration": 294,
    "start_time": "2025-06-07T12:22:38.678Z"
   },
   {
    "duration": 370,
    "start_time": "2025-06-07T12:22:38.974Z"
   },
   {
    "duration": 52,
    "start_time": "2025-06-07T12:22:39.346Z"
   },
   {
    "duration": 10,
    "start_time": "2025-06-07T12:22:39.400Z"
   },
   {
    "duration": 137,
    "start_time": "2025-06-07T12:22:39.412Z"
   },
   {
    "duration": 72,
    "start_time": "2025-06-07T12:22:39.551Z"
   },
   {
    "duration": 5,
    "start_time": "2025-06-07T12:22:39.625Z"
   },
   {
    "duration": 65,
    "start_time": "2025-06-07T12:22:39.632Z"
   }
  ],
  "kernelspec": {
   "display_name": "Python 3 (ipykernel)",
   "language": "python",
   "name": "python3"
  },
  "language_info": {
   "codemirror_mode": {
    "name": "ipython",
    "version": 3
   },
   "file_extension": ".py",
   "mimetype": "text/x-python",
   "name": "python",
   "nbconvert_exporter": "python",
   "pygments_lexer": "ipython3",
   "version": "3.9.5"
  },
  "toc": {
   "base_numbering": 1,
   "nav_menu": {},
   "number_sections": true,
   "sideBar": true,
   "skip_h1_title": true,
   "title_cell": "Table of Contents",
   "title_sidebar": "Contents",
   "toc_cell": false,
   "toc_position": {
    "height": "calc(100% - 180px)",
    "left": "10px",
    "top": "150px",
    "width": "273.183px"
   },
   "toc_section_display": true,
   "toc_window_display": true
  }
 },
 "nbformat": 4,
 "nbformat_minor": 5
}
